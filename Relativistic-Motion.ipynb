{
 "cells": [
  {
   "cell_type": "markdown",
   "id": "ca3cfb25",
   "metadata": {},
   "source": [
    "# Examining the Results of Classical and Relativistic Motion Modeling\n",
    "\n",
    "\n",
    "# What is the purpose of this project?\n",
    "The purpose of this project is to examine the difference of Classical and Relativitic Motion ODEs. We will do this by applying a constant force on two identical particles using the two different methods and comparing/contrasting the results.\n",
    "\n",
    "Let's make a plan to implement."
   ]
  },
  {
   "attachments": {
    "Particle-visulization.png": {
     "image/png": "[encoded data removed]"
    }
   },
   "cell_type": "markdown",
   "id": "93eda206",
   "metadata": {},
   "source": [
    "## Steps:\n",
    "\n",
    "1.) Create two particles of identical mass, starting position, and velocity(0)\n",
    "\n",
    "2.) Apply the classical and relativistic models to each particle respectivelly \n",
    "\n",
    "3.) Plot the differences of the velocities of the two particles as they approach and/or exceed the speed of light\n",
    "\n",
    "### Note:\n",
    "For simplicity imagine the particle resting on the x axis with no force in the y direction and therefore no y velocity.\n",
    "This will have no effect on our calculation of speed but it will make graphs and print-outs much easier to read.\n",
    "\n",
    "### Questions to anwser\n",
    "-Does drastically changing the mass of the particle change the results?\n",
    "\n",
    "-Is there any force that can cause our relativitic model to break?\n",
    "\n",
    "-At approximately what speed does the classical and relativistic models start to differ?\n",
    "\n",
    "#### Here is a rough visualization\n",
    "![Particle-visulization.png](attachment:Particle-visulization.png)"
   ]
  },
  {
   "cell_type": "markdown",
   "id": "d14a7baf",
   "metadata": {},
   "source": [
    "## Let's create the particles and define constants\n",
    "## We will also create the particles and define functions to manipulate them"
   ]
  },
  {
   "cell_type": "code",
   "execution_count": 16,
   "id": "a9116055",
   "metadata": {},
   "outputs": [],
   "source": [
    "from vpython import *\n",
    "import numpy as np\n",
    "import random as rand\n",
    "import matplotlib.pyplot as plt\n",
    "c = 3e8 #speed of light in meters per second\n",
    "#forces to play around with\n",
    "force1 = 1000\n",
    "force2 = 3.45e7  #force of gravity by sun on .01 kg located equidistance of mars\n",
    "Nsteps = 10000 #number of time steps"
   ]
  },
  {
   "cell_type": "code",
   "execution_count": 17,
   "id": "5d3d6a85",
   "metadata": {},
   "outputs": [],
   "source": [
    "class particle:\n",
    "    \n",
    "    def __init__(self, mass,v,x):\n",
    "        self.m = mass  #initialize the particles mass\n",
    "        self.v = np.zeros(Nsteps) #an array of size 1000 to store velocity values \n",
    "        self.p = np.zeros(Nsteps)\n",
    "        self.x = 0  #x position at beginning\n",
    "        \n",
    "    def output(self):\n",
    "        fig = plt.figure()\n",
    "        plt.title(\"Velocity of particle vs time\")\n",
    "        plt.plot(tarray,self.v, 'b-')\n",
    "#        plt.plot(tarray,p2.v,'r-')\n",
    "        plt.xlabel('t (?)')\n",
    "        plt.ylabel('Velocity')\n",
    "        plt.show()\n",
    "        \n",
    "\n",
    "p1 = particle(.01,1,0) #the second 1 is redundant\n",
    "\n",
    "##used for testing \n",
    "\n",
    "# print(p1.m)\n",
    "# print(p1.v[0])\n",
    "tarray = np.zeros(Nsteps)\n",
    "p2 = particle(2,1,0)\n",
    "# p1.output(p2)\n",
    "# p1.v[1] = 10\n",
    "# p1.calcp(1)\n",
    "# print(p1.p)"
   ]
  },
  {
   "cell_type": "code",
   "execution_count": 18,
   "id": "7ee18713",
   "metadata": {},
   "outputs": [],
   "source": [
    "# do p = (1/sqrt(1-v^2/c^2)) * m * v\n",
    "def relativistic(particle,i):\n",
    "    v = particle.p[i]/(particle.m**2+(particle.p[i]**2/c**2))**(1/2)\n",
    "    particle.v[i] = v\n",
    "\n",
    "def classical(particle,i):\n",
    "    v = particle.p[i]/particle.m\n",
    "    particle.v[i] = v"
   ]
  },
  {
   "cell_type": "markdown",
   "id": "2945e8be",
   "metadata": {},
   "source": [
    "## Now we have our particles and functions defined lets apply some forces to the particles and use the ODE's to predict their speeds'"
   ]
  },
  {
   "cell_type": "markdown",
   "id": "80ca6cc6",
   "metadata": {},
   "source": [
    "Based off of my current understanding I hypothesise the particles will deviate from each other in terms of speed when they become closer to the speed of light."
   ]
  },
  {
   "cell_type": "code",
   "execution_count": 28,
   "id": "491765f8",
   "metadata": {},
   "outputs": [
    {
     "data": {
      "image/png": "[encoded data removed]",
      "text/plain": [
       "<Figure size 432x288 with 1 Axes>"
      ]
     },
     "metadata": {
      "needs_background": "light"
     },
     "output_type": "display_data"
    }
   ],
   "source": [
    "p1 = particle(.01,1,0)\n",
    "p2 = particle(.01,1,0)\n",
    "#time\n",
    "t = 0 #independent time variable\n",
    "h = 1\n",
    "\n",
    "\n",
    "for n in range(0,Nsteps-1):\n",
    "    \n",
    "    t = t + h\n",
    "    p1.p = p1.p+force1\n",
    "    p2.p = p2.p+force1\n",
    "    classical(p1,t)\n",
    "    relativistic(p2,t)\n",
    "    tarray[n+1] = t\n",
    "    \n",
    "\n",
    "fig = plt.figure()\n",
    "plt.title(\"Velocity of particle vs time \")\n",
    "plt.plot(tarray,p1.v,'b-', label = 'classical method')\n",
    "plt.plot(tarray,p2.v,'r-',label = 'relativistic method')\n",
    "plt.legend()\n",
    "plt.xlabel('t (s)')\n",
    "plt.ylabel('Velocity (m/s)')\n",
    "plt.show()"
   ]
  },
  {
   "cell_type": "markdown",
   "id": "b27f5028",
   "metadata": {},
   "source": [
    "### What can we draw from this?\n",
    "From above we see that given the same initial values and the same constant force we get very different results.\n",
    "\n",
    "It appears they begin to significantly deviate around .2e8.\n",
    "\n",
    "The classical method returns a velocity that scaled linearly with time whereas the relativistic method apporaches 3e8 but never achieves that speed.\n",
    "This can become a bit clearer when graphed seperately."
   ]
  },
  {
   "cell_type": "code",
   "execution_count": 15,
   "id": "8150faa0",
   "metadata": {},
   "outputs": [
    {
     "data": {
      "image/png": "[encoded data removed]",
      "text/plain": [
       "<Figure size 432x288 with 1 Axes>"
      ]
     },
     "metadata": {
      "needs_background": "light"
     },
     "output_type": "display_data"
    },
    {
     "name": "stdout",
     "output_type": "stream",
     "text": [
      "Speed of particle: 287345512.6425819 m/s\n"
     ]
    }
   ],
   "source": [
    "p2 = particle(.01,1,0)\n",
    "#time\n",
    "t = 0 #independent time variable\n",
    "h = 1\n",
    "\n",
    "for n in range(0,Nsteps-1):\n",
    "    \n",
    "    t = t + h\n",
    "    p2.p = p2.p+force1\n",
    "    relativistic(p2,t)\n",
    "    tarray[n+1] = t\n",
    "    \n",
    "fig = plt.figure()\n",
    "plt.title(\"Velocity of particle vs time (relativistic method)\")\n",
    "plt.plot(tarray,p2.v,'r-',label = 'relativistic method')\n",
    "plt.legend()\n",
    "plt.xlabel('t (s)')\n",
    "plt.ylabel('Velocity')\n",
    "plt.show()\n",
    "\n",
    "print(\"Speed of particle:\",p2.v[Nsteps-1],\"m/s\")"
   ]
  },
  {
   "cell_type": "markdown",
   "id": "585a681a",
   "metadata": {},
   "source": [
    "We see the  particle rapidly approaches the speed of light and if we look at the printout it gets fairly close.\n",
    "\n",
    "But what would happen if we added a very large force to the particle for a very long time? We hypothesize in real life the particle would never reach the speed of light due to it habving mass, but lets see if our simulation is robust enough to accurately model that.\n",
    "\n",
    "More specifically lets hypothetically let the saturn V rocket produce its maximum thrust on the particle while providing no additional mass. That would mean we would have 34.5 million newtons of force on the particle constantly which should surely break our simulation."
   ]
  },
  {
   "cell_type": "code",
   "execution_count": 19,
   "id": "4f0540d6",
   "metadata": {},
   "outputs": [
    {
     "data": {
      "image/png": "[encoded data removed]",
      "text/plain": [
       "<Figure size 432x288 with 1 Axes>"
      ]
     },
     "metadata": {
      "needs_background": "light"
     },
     "output_type": "display_data"
    },
    {
     "name": "stdout",
     "output_type": "stream",
     "text": [
      "Speed of particle: 299999999.9886556 m/s\n"
     ]
    }
   ],
   "source": [
    "p2 = particle(.01,1,0)\n",
    "#time\n",
    "t = 0 #independent time variable\n",
    "h = 1\n",
    "\n",
    "for n in range(0,Nsteps-1):\n",
    "    \n",
    "    t = t + h\n",
    "    p2.p = p2.p+force2\n",
    "    relativistic(p2,t)\n",
    "    tarray[n+1] = t\n",
    "    \n",
    "fig = plt.figure()\n",
    "plt.title(\"Velocity of particle vs time (relativistic method)\")\n",
    "plt.plot(tarray,p2.v,'r-',label = 'relativistic method')\n",
    "plt.legend()\n",
    "plt.xlabel('t (s)')\n",
    "plt.ylabel('Velocity')\n",
    "plt.show()\n",
    "\n",
    "print(\"Speed of particle:\",p2.v[Nsteps-1],\"m/s\")"
   ]
  },
  {
   "cell_type": "markdown",
   "id": "b7889407",
   "metadata": {},
   "source": [
    "### Success!\n",
    "This is exactly what we expected to happen. With such a massive force constantly acting on a small mass, the particle almost instantly accelerated to near speed of light.\n",
    "With a final particle speed that is %99.99701905 the speed of light we can safely assume our model can accurately calculate relativitic motion."
   ]
  },
  {
   "cell_type": "code",
   "execution_count": null,
   "id": "366d50f4",
   "metadata": {},
   "outputs": [],
   "source": []
  }
 ],
 "metadata": {
  "kernelspec": {
   "display_name": "Python 3 (ipykernel)",
   "language": "python",
   "name": "python3"
  },
  "language_info": {
   "codemirror_mode": {
    "name": "ipython",
    "version": 3
   },
   "file_extension": ".py",
   "mimetype": "text/x-python",
   "name": "python",
   "nbconvert_exporter": "python",
   "pygments_lexer": "ipython3",
   "version": "3.9.7"
  }
 },
 "nbformat": 4,
 "nbformat_minor": 5
}
