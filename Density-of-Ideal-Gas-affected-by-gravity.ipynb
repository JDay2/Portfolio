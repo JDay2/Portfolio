{
 "cells": [
  {
   "cell_type": "markdown",
   "id": "982b83f4",
   "metadata": {},
   "source": [
    "# What is the purpose of this project?\n",
    "The purpose of this project is to measure the effects of gravity on an ideal gas. We will do this by measuring the change in densities in different sections of the box representing the change in density in relation to altitude. \n",
    "\n",
    "Let's make a plan to implement."
   ]
  },
  {
   "cell_type": "markdown",
   "id": "e861b113",
   "metadata": {},
   "source": [
    "## Steps\n",
    "1.) Set up box containing the ideal gas\n",
    "\n",
    "2.) Create the bounds for the segments of the box used to measure the density of the particles\n",
    "\n",
    "3.) Run the simulation and record the average density of the segments in the box\n",
    "\n",
    "4.) Apply gravity to the simulation\n",
    "\n",
    "5.) Run the simulation and find the new densities \n",
    "\n",
    "\n",
    "\n",
    "\n",
    "## Challenges\n",
    "Accurately demonstrate the differences in density with gravity and change in y coordinates.\n",
    "\n",
    "Validating the model; how do i know my model is correct?\n"
   ]
  },
  {
   "cell_type": "markdown",
   "id": "71546393",
   "metadata": {},
   "source": [
    "# Let's Import code from our ideal gas model"
   ]
  },
  {
   "cell_type": "code",
   "execution_count": 1,
   "id": "781c7b1a",
   "metadata": {},
   "outputs": [
    {
     "data": {
      "text/html": [
       "<div id=\"glowscript\" class=\"glowscript\"></div>"
      ],
      "text/plain": [
       "<IPython.core.display.HTML object>"
      ]
     },
     "metadata": {},
     "output_type": "display_data"
    },
    {
     "data": {
      "application/javascript": [
       "if (typeof Jupyter !== \"undefined\") { window.__context = { glowscript_container: $(\"#glowscript\").removeAttr(\"id\")};}else{ element.textContent = ' ';}"
      ],
      "text/plain": [
       "<IPython.core.display.Javascript object>"
      ]
     },
     "metadata": {},
     "output_type": "display_data"
    }
   ],
   "source": [
    "from vpython import *\n",
    "import numpy as np\n",
    "import random as rand\n",
    "import matplotlib.pyplot as plt"
   ]
  },
  {
   "cell_type": "code",
   "execution_count": 2,
   "id": "a2c47a9c",
   "metadata": {},
   "outputs": [],
   "source": [
    "def check_collisions():\n",
    "    \"\"\"Determine all pairs of colliding spheres in the global particles[] list. \n",
    "        \n",
    "    \"\"\"\n",
    "    collided_pairs = [] #a list of pairs of spheres that are overlapping\n",
    "    \n",
    "    for i in range(N):\n",
    "        for j in range(i+1,N): #start at i+1 to avoid double counting and to avoid self-collision\n",
    "            d = mag(particles[i].pos - particles[j].pos)\n",
    "            if d < 2*R:\n",
    "                collided_pairs.append([i,j])            \n",
    "    \n",
    "    return collided_pairs"
   ]
  },
  {
   "cell_type": "code",
   "execution_count": 3,
   "id": "b7c40a8f",
   "metadata": {},
   "outputs": [],
   "source": [
    "def calc_collision(i,j):\n",
    "    \"\"\"Calculate new velocity, momentum, and position of pairs of colliding spheres in the global particles[] list. \n",
    "\n",
    "    Keyword arguments:\n",
    "    i -- index of one colliding sphere\n",
    "    j -- index of second colliding sphere\n",
    "\n",
    "    \"\"\"\n",
    "\n",
    "    global particles\n",
    "    \n",
    "    r1 = particles[i].pos\n",
    "    r2 = particles[j].pos\n",
    "    v1 = particles[i].v\n",
    "    v2 = particles[j].v\n",
    "    p1 = m*v1\n",
    "    p2 = m*v2\n",
    "    v1i = v1\n",
    "    v2i = v2\n",
    "    \n",
    "    #transform to reference frame of particle 1\n",
    "    v2rel = v2 - v1\n",
    "    r2rel = r2 - r1\n",
    "    \n",
    "    #find time when collision ocurred\n",
    "    dx = dot(r2rel, hat(v2rel))\n",
    "    dy = mag(cross(r2rel, hat(v2rel)))\n",
    "    if (dy>2*R): return #fixes math domain error\n",
    "    alpha = asin(dy/2/R)\n",
    "    d = 2*R*cos(alpha) + dx\n",
    "    deltat = d/mag(v2rel)\n",
    "    \n",
    "    #move particles backward in time to their locations at the collision\n",
    "    particles[i].pos = particles[i].pos - particles[i].v*deltat\n",
    "    particles[j].pos = particles[j].pos - particles[j].v*deltat\n",
    "    \n",
    "    #calculate new momenta using CM reference frame\n",
    "    r1 = particles[i].pos\n",
    "    r2 = particles[j].pos\n",
    "    M = 2*m #total mass\n",
    "    ptot = p1+p2 #total momentum\n",
    "    vcm = ptot/M\n",
    "    v1rel = v1 - vcm\n",
    "    v2rel = v2 - vcm\n",
    "    p1rel = m*v1rel\n",
    "    p2rel = m*v2rel\n",
    "    r = r2 - r1\n",
    "    p1rel = p1rel - 2*dot(p1rel,hat(r))*hat(r)\n",
    "    p2rel = p2rel - 2*dot(p2rel,hat(r))*hat(r)\n",
    "    v1rel = p1rel/m\n",
    "    v2rel = p2rel/m\n",
    "    v1 = vcm + v1rel\n",
    "    v2 = vcm + v2rel\n",
    "    p1 = m*v1\n",
    "    p2 = m*v2\n",
    "    particles[i].v = v1\n",
    "    particles[j].v = v2\n",
    "\n",
    "    #move particles forward in time to their locations at the end of the time step\n",
    "    particles[i].pos = particles[i].pos + particles[i].v*deltat\n",
    "    particles[j].pos = particles[j].pos + particles[j].v*deltat\n",
    "    \n"
   ]
  },
  {
   "cell_type": "markdown",
   "id": "86a7b155",
   "metadata": {},
   "source": [
    "\n",
    "\n",
    "\n",
    "# Lets first create a scene with an ideal gas in a box unaffected by gravity and measure the density.\n",
    "\n",
    "We will measure density by splitting the box into three imaginary segments.\n",
    "Each segment is the same length and width as the box and one third of its height.\n",
    "\n",
    "The first segment will start at the top of the box and go 1/3rd of the way down.\n",
    "\n",
    "The second segment starts at the bottom of the first and goes down another 1/3rd.\n",
    "\n",
    "The last segment will start below the second and will contain the remaining 1/3rd of the box at the bottom.\n",
    "\n",
    "The segments will be more useful later when gravity is applied in order to measure it's effects. Each segment is seperated by a yellow box for visualizing the simulation only; they do not affect the simulation mathmatically."
   ]
  },
  {
   "cell_type": "code",
   "execution_count": 4,
   "id": "4a21fadc",
   "metadata": {},
   "outputs": [
    {
     "data": {
      "text/html": [
       "<div id=\"glowscript\" class=\"glowscript\"></div>"
      ],
      "text/plain": [
       "<IPython.core.display.HTML object>"
      ]
     },
     "metadata": {},
     "output_type": "display_data"
    },
    {
     "data": {
      "application/javascript": [
       "if (typeof Jupyter !== \"undefined\") { window.__context = { glowscript_container: $(\"#glowscript\").removeAttr(\"id\")};}else{ element.textContent = ' ';}"
      ],
      "text/plain": [
       "<IPython.core.display.Javascript object>"
      ]
     },
     "metadata": {},
     "output_type": "display_data"
    },
    {
     "name": "stdout",
     "output_type": "stream",
     "text": [
      "Please wait until the end of the simulation in order to fully understand the data and its interactions\n",
      "Volume of particle(expected value:5.23598e-31) 1.4710226951490482e-29\n",
      "Volume of each segment 7.491107880959997e-26\n"
     ]
    },
    {
     "data": {
      "application/javascript": [
       "if (typeof Jupyter !== \"undefined\") {require.undef(\"nbextensions/vpython_libraries/glow.min\");}else{element.textContent = ' ';}"
      ],
      "text/plain": [
       "<IPython.core.display.Javascript object>"
      ]
     },
     "metadata": {},
     "output_type": "display_data"
    },
    {
     "data": {
      "application/javascript": [
       "if (typeof Jupyter !== \"undefined\") {require.undef(\"nbextensions/vpython_libraries/glowcomm\");}else{element.textContent = ' ';}"
      ],
      "text/plain": [
       "<IPython.core.display.Javascript object>"
      ]
     },
     "metadata": {},
     "output_type": "display_data"
    },
    {
     "data": {
      "application/javascript": [
       "if (typeof Jupyter !== \"undefined\") {require.undef(\"nbextensions/vpython_libraries/jquery-ui.custom.min\");}else{element.textContent = ' ';}"
      ],
      "text/plain": [
       "<IPython.core.display.Javascript object>"
      ]
     },
     "metadata": {},
     "output_type": "display_data"
    },
    {
     "data": {
      "application/javascript": [
       "if (typeof Jupyter !== \"undefined\") {require([\"nbextensions/vpython_libraries/glow.min\"], function(){console.log(\"GLOW LOADED\");});}else{element.textContent = ' ';}"
      ],
      "text/plain": [
       "<IPython.core.display.Javascript object>"
      ]
     },
     "metadata": {},
     "output_type": "display_data"
    },
    {
     "data": {
      "application/javascript": [
       "if (typeof Jupyter !== \"undefined\") {require([\"nbextensions/vpython_libraries/glowcomm\"], function(){console.log(\"GLOWCOMM LOADED\");});}else{element.textContent = ' ';}"
      ],
      "text/plain": [
       "<IPython.core.display.Javascript object>"
      ]
     },
     "metadata": {},
     "output_type": "display_data"
    },
    {
     "data": {
      "application/javascript": [
       "if (typeof Jupyter !== \"undefined\") {require([\"nbextensions/vpython_libraries/jquery-ui.custom.min\"], function(){console.log(\"JQUERY LOADED\");});}else{element.textContent = ' ';}"
      ],
      "text/plain": [
       "<IPython.core.display.Javascript object>"
      ]
     },
     "metadata": {},
     "output_type": "display_data"
    },
    {
     "name": "stdout",
     "output_type": "stream",
     "text": [
      "starting amount of particles in top segment 78\n",
      "starting amount of particles in middle segment 72\n",
      "starting amount of particles in bottom segment 50 \n",
      "\n",
      "Starting top segment Density 0.01532 kg/m^3\n",
      "Starting mid segment Density 0.01414 kg/m^3\n",
      "Starting bot segment Density 0.009818 kg/m^3 \n",
      "\n"
     ]
    },
    {
     "ename": "KeyboardInterrupt",
     "evalue": "",
     "output_type": "error",
     "traceback": [
      "\u001b[1;31m---------------------------------------------------------------------------\u001b[0m",
      "\u001b[1;31mKeyboardInterrupt\u001b[0m                         Traceback (most recent call last)",
      "\u001b[1;32m~\\AppData\\Local\\Temp/ipykernel_2544/2169821192.py\u001b[0m in \u001b[0;36m<module>\u001b[1;34m\u001b[0m\n\u001b[0;32m    107\u001b[0m \u001b[1;33m\u001b[0m\u001b[0m\n\u001b[0;32m    108\u001b[0m     \u001b[1;31m#handle collisions of particles with each other\u001b[0m\u001b[1;33m\u001b[0m\u001b[1;33m\u001b[0m\u001b[0m\n\u001b[1;32m--> 109\u001b[1;33m     \u001b[0mcollided_pairs\u001b[0m \u001b[1;33m=\u001b[0m \u001b[0mcheck_collisions\u001b[0m\u001b[1;33m(\u001b[0m\u001b[1;33m)\u001b[0m\u001b[1;33m\u001b[0m\u001b[1;33m\u001b[0m\u001b[0m\n\u001b[0m\u001b[0;32m    110\u001b[0m     \u001b[1;32mfor\u001b[0m \u001b[0mpair\u001b[0m \u001b[1;32min\u001b[0m \u001b[0mcollided_pairs\u001b[0m\u001b[1;33m:\u001b[0m\u001b[1;33m\u001b[0m\u001b[1;33m\u001b[0m\u001b[0m\n\u001b[0;32m    111\u001b[0m         \u001b[0mi\u001b[0m \u001b[1;33m=\u001b[0m \u001b[0mpair\u001b[0m\u001b[1;33m[\u001b[0m\u001b[1;36m0\u001b[0m\u001b[1;33m]\u001b[0m\u001b[1;33m\u001b[0m\u001b[1;33m\u001b[0m\u001b[0m\n",
      "\u001b[1;32m~\\AppData\\Local\\Temp/ipykernel_2544/3906703613.py\u001b[0m in \u001b[0;36mcheck_collisions\u001b[1;34m()\u001b[0m\n\u001b[0;32m      7\u001b[0m     \u001b[1;32mfor\u001b[0m \u001b[0mi\u001b[0m \u001b[1;32min\u001b[0m \u001b[0mrange\u001b[0m\u001b[1;33m(\u001b[0m\u001b[0mN\u001b[0m\u001b[1;33m)\u001b[0m\u001b[1;33m:\u001b[0m\u001b[1;33m\u001b[0m\u001b[1;33m\u001b[0m\u001b[0m\n\u001b[0;32m      8\u001b[0m         \u001b[1;32mfor\u001b[0m \u001b[0mj\u001b[0m \u001b[1;32min\u001b[0m \u001b[0mrange\u001b[0m\u001b[1;33m(\u001b[0m\u001b[0mi\u001b[0m\u001b[1;33m+\u001b[0m\u001b[1;36m1\u001b[0m\u001b[1;33m,\u001b[0m\u001b[0mN\u001b[0m\u001b[1;33m)\u001b[0m\u001b[1;33m:\u001b[0m \u001b[1;31m#start at i+1 to avoid double counting and to avoid self-collision\u001b[0m\u001b[1;33m\u001b[0m\u001b[1;33m\u001b[0m\u001b[0m\n\u001b[1;32m----> 9\u001b[1;33m             \u001b[0md\u001b[0m \u001b[1;33m=\u001b[0m \u001b[0mmag\u001b[0m\u001b[1;33m(\u001b[0m\u001b[0mparticles\u001b[0m\u001b[1;33m[\u001b[0m\u001b[0mi\u001b[0m\u001b[1;33m]\u001b[0m\u001b[1;33m.\u001b[0m\u001b[0mpos\u001b[0m \u001b[1;33m-\u001b[0m \u001b[0mparticles\u001b[0m\u001b[1;33m[\u001b[0m\u001b[0mj\u001b[0m\u001b[1;33m]\u001b[0m\u001b[1;33m.\u001b[0m\u001b[0mpos\u001b[0m\u001b[1;33m)\u001b[0m\u001b[1;33m\u001b[0m\u001b[1;33m\u001b[0m\u001b[0m\n\u001b[0m\u001b[0;32m     10\u001b[0m             \u001b[1;32mif\u001b[0m \u001b[0md\u001b[0m \u001b[1;33m<\u001b[0m \u001b[1;36m2\u001b[0m\u001b[1;33m*\u001b[0m\u001b[0mR\u001b[0m\u001b[1;33m:\u001b[0m\u001b[1;33m\u001b[0m\u001b[1;33m\u001b[0m\u001b[0m\n\u001b[0;32m     11\u001b[0m                 \u001b[0mcollided_pairs\u001b[0m\u001b[1;33m.\u001b[0m\u001b[0mappend\u001b[0m\u001b[1;33m(\u001b[0m\u001b[1;33m[\u001b[0m\u001b[0mi\u001b[0m\u001b[1;33m,\u001b[0m\u001b[0mj\u001b[0m\u001b[1;33m]\u001b[0m\u001b[1;33m)\u001b[0m\u001b[1;33m\u001b[0m\u001b[1;33m\u001b[0m\u001b[0m\n",
      "\u001b[1;31mKeyboardInterrupt\u001b[0m: "
     ]
    }
   ],
   "source": [
    "scene = canvas(title=\"Density of ideal gases in box unaffected by gravity\")\n",
    "\n",
    "#constants\n",
    "m = 2.6566962e-26 #mass of atom in kg #old value 1.7e-27\n",
    "R = 1.52e-10 #radius of atom in m  #old value 0.5e-10\n",
    "L = 40*R #length of box in m\n",
    "thick = L/100 #thickness of box wall in m\n",
    "k = 1.4e-23 #boltzmann constant\n",
    "T = 288 #temp in K  #old value 300\n",
    "s =  np.sqrt(2*3/2*k*T/m) #initial speed\n",
    "Volume = 4/3*pi*R**3 # volume of particle| expected value is 5.23598e-31\n",
    "segmentVolume = L*L*(L*.3333)  #volume of each segment\n",
    "\n",
    "#segment boundaries and starting amounts of particles in each boundary\n",
    "topBottomBound = L/2 - L*.3333\n",
    "bottomUpperBound = -L/2 + L*.3333\n",
    "topAmount = 0\n",
    "midAmount = 0\n",
    "botAmount = 0\n",
    "\n",
    "print(\"Please wait until the end of the simulation in order to fully understand the data and its interactions\")\n",
    "print(\"Volume of particle(expected value:5.23598e-31)\",Volume)  #check that values are expected\n",
    "print(\"Volume of each segment\",segmentVolume)\n",
    "\n",
    "\n",
    "#visual objects\n",
    "Lwall = box(pos = vec(-L/2, 0, 0), size = vec(thick, L, L), color=color.white)\n",
    "Rwall = box(pos = vec(L/2, 0, 0), size = vec(thick, L, L), color=color.white)\n",
    "Bwall = box(pos = vec(0, -L/2, 0), size = vec(L, thick, L), color=color.white)\n",
    "Twall = box(pos = vec(0, L/2, 0), size = vec(L, thick, L), color=color.white)\n",
    "Zwall = box(pos = vec(0, 0, -L/2), size = vec(L, L, thick), color=color.white)\n",
    "\n",
    "#segment indicators\n",
    "topseg = box(pos = vec(0,topBottomBound,0), size = vec(L,thick/2,L), color=color.yellow)\n",
    "botseg = box(pos = vec(0,bottomUpperBound,0), size = vec(L,thick/2,L), color=color.yellow)\n",
    "\n",
    "particles = [] #list of particles\n",
    "\n",
    "N=200 #number of particles\n",
    "\n",
    "#create particles\n",
    "for i in range(N):\n",
    "    if i==0:\n",
    "        particle = sphere(pos = L/2*vec(rand.uniform(-0.9,0.9),rand.uniform(-0.9,0.9),rand.uniform(-0.9,0.9)), radius = R, color = color.cyan, make_trail=True, retain=20, trail_radius=0.3*R)\n",
    "    else:\n",
    "        particle = sphere(pos = L/2*vec(rand.uniform(-0.9,0.9),rand.uniform(-0.9,0.9),rand.uniform(-0.9,0.9)), radius = R, color = color.red)\n",
    "\n",
    "    #initial velocity\n",
    "    particle.v = s*hat(vec(rand.uniform(-1,1), rand.uniform(-1,1), rand.uniform(-1,1)))\n",
    "    particle.p = m*particle.v\n",
    "\n",
    "    particles.append(particle)\n",
    "\n",
    "#check for collisions and rerandomize positions of particles that are collided\n",
    "collided_pairs = check_collisions()\n",
    "while len(collided_pairs)!=0:\n",
    "    for pair in collided_pairs:\n",
    "        particles[pair[0]].pos = L/2*vec(rand.uniform(-1,1),rand.uniform(-1,1),rand.uniform(-1,1))\n",
    "        particles[pair[1]].pos = L/2*vec(rand.uniform(-1,1),rand.uniform(-1,1),rand.uniform(-1,1))\n",
    "        #print(\"finding new positions please wait...\")\n",
    "    collided_pairs = check_collisions()\n",
    "\n",
    "#time\n",
    "t = 0\n",
    "dt = R/s/10\n",
    "\n",
    "\n",
    "\n",
    "#Counting particles in each segment\n",
    "for particle in particles:\n",
    "    if particle.pos.y > topBottomBound:  #checks if the y pos of the particle is located in the upper segment \n",
    "        topAmount +=1\n",
    "        \n",
    "    elif particle.pos.y < bottomUpperBound:  #checks if the y pos of the particle is located in the lower segment \n",
    "        botAmount +=1\n",
    "        \n",
    "    else:\n",
    "        midAmount +=1\n",
    "        \n",
    "#find out starting densities in g/m^3\n",
    "topDensity = ((topAmount*Volume)/segmentVolume)\n",
    "midDensity = ((midAmount*Volume)/segmentVolume)\n",
    "botDensity = ((botAmount*Volume)/segmentVolume)\n",
    "\n",
    "print(\"starting amount of particles in top segment\",topAmount)\n",
    "print(\"starting amount of particles in middle segment\",midAmount)\n",
    "print(\"starting amount of particles in bottom segment\",botAmount,\"\\n\")\n",
    "\n",
    "print(\"Starting top segment Density {0:.4} kg/m^3\".format(topDensity))\n",
    "print(\"Starting mid segment Density {0:.4} kg/m^3\".format(midDensity))\n",
    "print(\"Starting bot segment Density {0:.4} kg/m^3\".format(botDensity),\"\\n\")\n",
    "\n",
    "\n",
    "\n",
    "#evolution\n",
    "scene.pause()\n",
    "\n",
    "Nsteps = 1e4 #number of time steps for the loop\n",
    "while t < Nsteps*dt:\n",
    "    rate(1000) #sets number of loops per second in order to slow down or speed up visualization\n",
    "    \n",
    "    \n",
    "    \n",
    "    #update position of each particle\n",
    "    for particle in particles:\n",
    "        particle.pos = particle.pos + particle.v*dt \n",
    "        \n",
    "    #handle collisions of particles with each other\n",
    "    collided_pairs = check_collisions()\n",
    "    for pair in collided_pairs:\n",
    "        i = pair[0]\n",
    "        j = pair[1]\n",
    "        calc_collision(i,j)\n",
    "    \n",
    "    #handle collision with walls\n",
    "    for particle in particles:\n",
    "        if particle.pos.x > L/2:\n",
    "            particle.v.x = - abs(particle.v.x)\n",
    "            particle.p = m*particle.v\n",
    "        elif particle.pos.x < -L/2:\n",
    "            particle.v.x = abs(particle.v.x)\n",
    "            particle.p = m*particle.v\n",
    "\n",
    "        if particle.pos.y > L/2:\n",
    "            particle.v.y = - abs(particle.v.y)\n",
    "            particle.p = m*particle.v\n",
    "        elif particle.pos.y < -L/2:\n",
    "            particle.v.y = abs(particle.v.y)\n",
    "            particle.p = m*particle.v\n",
    "\n",
    "        if particle.pos.z > L/2:\n",
    "            particle.v.z = - abs(particle.v.z)\n",
    "            particle.p = m*particle.v\n",
    "        elif particle.pos.z < -L/2:\n",
    "            particle.v.z = abs(particle.v.z)\n",
    "            particle.p = m*particle.v\n",
    "            \n",
    "            \n",
    "\n",
    "            \n",
    "     \n",
    "    t = t + dt\n",
    "\n",
    "#reset the counts\n",
    "topAmount = 0\n",
    "midAmount = 0\n",
    "botAmount = 0\n",
    "\n",
    "#Counting particles in each segment\n",
    "for particle in particles:\n",
    "    if particle.pos.y > topBottomBound:  #checks if the y pos of the particle is located in the upper segment \n",
    "        topAmount +=1\n",
    "        \n",
    "    elif particle.pos.y < bottomUpperBound:  #checks if the y pos of the particle is located in the lower segment \n",
    "        botAmount +=1       \n",
    "    else:\n",
    "        midAmount +=1\n",
    "        \n",
    "print(\"ending amount of particles in top segment\",topAmount)\n",
    "print(\"ending amount of particles in middle segment\",midAmount)\n",
    "print(\"ending amount of particles in bottom segment\",botAmount,\"\\n\")  \n",
    "\n",
    "topDensity = ((topAmount*Volume)/segmentVolume)\n",
    "midDensity = ((midAmount*Volume)/segmentVolume)\n",
    "botDensity = ((botAmount*Volume)/segmentVolume)\n",
    "\n",
    "\n",
    "print(\"Ending top segment Density {0:.4} kg/m^3\".format(topDensity))\n",
    "print(\"Ending middle segment Density {0:.4} kg/m^3\".format(midDensity))\n",
    "print(\"Ending bottom segment Density {0:.4} kg/m^3\".format(botDensity),\"\\n\")"
   ]
  },
  {
   "attachments": {
    "NoGrav2.png": {
     "image/png": "[encoded data removed]"
    }
   },
   "cell_type": "markdown",
   "id": "f627460e",
   "metadata": {},
   "source": [
    "![NoGrav2.png](attachment:NoGrav2.png)"
   ]
  },
  {
   "cell_type": "markdown",
   "id": "82ff65d8",
   "metadata": {},
   "source": [
    "# What information can we grab from this?\n",
    "\n",
    "As we can see the density at the start and the end of the simulation are very similar. Therefore we can infer that in a box without gravity the density of an ideal gas is randomly distributed.\n",
    "\n",
    "\n",
    "\n",
    "My hypothesis is that once we add gravtiy there will be a measurable difference in the amount of particles in each segment and their densities.\n",
    "\n",
    "Lets add gravity to the simulation and measure its effects.\n",
    "\n",
    "He is a professional rendition of it's predicted effects. More particles at the bottom and less towards the top."
   ]
  },
  {
   "attachments": {
    "gravity_prediction2.png": {
     "image/png": "[encoded data removed]"
    }
   },
   "cell_type": "markdown",
   "id": "9f116d97",
   "metadata": {},
   "source": [
    "![gravity_prediction2.png](attachment:gravity_prediction2.png)"
   ]
  },
  {
   "cell_type": "code",
   "execution_count": 13,
   "id": "e6f8b05b",
   "metadata": {},
   "outputs": [],
   "source": [
    "#Gravity \n",
    "m = 3.6863964e-25\n",
    "FNet = vec(0,-9.8*m,0) #force of gravity\n",
    "\n",
    "#Since we have no other forces acting upon the particles we can infer that FNet = FGrav"
   ]
  },
  {
   "cell_type": "markdown",
   "id": "0da35a3c",
   "metadata": {},
   "source": [
    "\n",
    "\n",
    "Now let's rerun the simultation "
   ]
  },
  {
   "cell_type": "code",
   "execution_count": 5,
   "id": "db83b340",
   "metadata": {},
   "outputs": [
    {
     "data": {
      "text/html": [
       "<div id=\"glowscript\" class=\"glowscript\"></div>"
      ],
      "text/plain": [
       "<IPython.core.display.HTML object>"
      ]
     },
     "metadata": {},
     "output_type": "display_data"
    },
    {
     "data": {
      "application/javascript": [
       "if (typeof Jupyter !== \"undefined\") { window.__context = { glowscript_container: $(\"#glowscript\").removeAttr(\"id\")};}else{ element.textContent = ' ';}"
      ],
      "text/plain": [
       "<IPython.core.display.Javascript object>"
      ]
     },
     "metadata": {},
     "output_type": "display_data"
    },
    {
     "name": "stdout",
     "output_type": "stream",
     "text": [
      "Please wait until the end of the simulation in order to fully understand the data and its interactions\n",
      "Volume of particle(expected value:5.23598e-31) 1.4710226951490482e-29\n",
      "Volume of each segment 7.491107880959997e-26\n"
     ]
    },
    {
     "data": {
      "application/javascript": [
       "if (typeof Jupyter !== \"undefined\") {require.undef(\"nbextensions/vpython_libraries/glow.min\");}else{element.textContent = ' ';}"
      ],
      "text/plain": [
       "<IPython.core.display.Javascript object>"
      ]
     },
     "metadata": {},
     "output_type": "display_data"
    },
    {
     "data": {
      "application/javascript": [
       "if (typeof Jupyter !== \"undefined\") {require.undef(\"nbextensions/vpython_libraries/glowcomm\");}else{element.textContent = ' ';}"
      ],
      "text/plain": [
       "<IPython.core.display.Javascript object>"
      ]
     },
     "metadata": {},
     "output_type": "display_data"
    },
    {
     "data": {
      "application/javascript": [
       "if (typeof Jupyter !== \"undefined\") {require.undef(\"nbextensions/vpython_libraries/jquery-ui.custom.min\");}else{element.textContent = ' ';}"
      ],
      "text/plain": [
       "<IPython.core.display.Javascript object>"
      ]
     },
     "metadata": {},
     "output_type": "display_data"
    },
    {
     "data": {
      "application/javascript": [
       "if (typeof Jupyter !== \"undefined\") {require([\"nbextensions/vpython_libraries/glow.min\"], function(){console.log(\"GLOW LOADED\");});}else{element.textContent = ' ';}"
      ],
      "text/plain": [
       "<IPython.core.display.Javascript object>"
      ]
     },
     "metadata": {},
     "output_type": "display_data"
    },
    {
     "data": {
      "application/javascript": [
       "if (typeof Jupyter !== \"undefined\") {require([\"nbextensions/vpython_libraries/glowcomm\"], function(){console.log(\"GLOWCOMM LOADED\");});}else{element.textContent = ' ';}"
      ],
      "text/plain": [
       "<IPython.core.display.Javascript object>"
      ]
     },
     "metadata": {},
     "output_type": "display_data"
    },
    {
     "data": {
      "application/javascript": [
       "if (typeof Jupyter !== \"undefined\") {require([\"nbextensions/vpython_libraries/jquery-ui.custom.min\"], function(){console.log(\"JQUERY LOADED\");});}else{element.textContent = ' ';}"
      ],
      "text/plain": [
       "<IPython.core.display.Javascript object>"
      ]
     },
     "metadata": {},
     "output_type": "display_data"
    },
    {
     "name": "stdout",
     "output_type": "stream",
     "text": [
      "Starting amount of particles in top segment 68\n",
      "Starting amount of particles in middle segment 72\n",
      "Starting amount of particles in bottom segment 60 \n",
      "\n",
      "Starting top segment Density 0.01335 kg/m^3\n",
      "Starting mid segment Density 0.01414 kg/m^3\n",
      "Starting bot segment Density 0.01178 kg/m^3 \n",
      "\n"
     ]
    },
    {
     "ename": "KeyboardInterrupt",
     "evalue": "",
     "output_type": "error",
     "traceback": [
      "\u001b[1;31m---------------------------------------------------------------------------\u001b[0m",
      "\u001b[1;31mKeyboardInterrupt\u001b[0m                         Traceback (most recent call last)",
      "\u001b[1;32m~\\AppData\\Local\\Temp/ipykernel_16860/3796216409.py\u001b[0m in \u001b[0;36m<module>\u001b[1;34m\u001b[0m\n\u001b[0;32m     94\u001b[0m \u001b[1;33m\u001b[0m\u001b[0m\n\u001b[0;32m     95\u001b[0m \u001b[1;31m#evolution\u001b[0m\u001b[1;33m\u001b[0m\u001b[1;33m\u001b[0m\u001b[0m\n\u001b[1;32m---> 96\u001b[1;33m \u001b[0mscene\u001b[0m\u001b[1;33m.\u001b[0m\u001b[0mpause\u001b[0m\u001b[1;33m(\u001b[0m\u001b[1;33m)\u001b[0m\u001b[1;33m\u001b[0m\u001b[1;33m\u001b[0m\u001b[0m\n\u001b[0m\u001b[0;32m     97\u001b[0m \u001b[1;33m\u001b[0m\u001b[0m\n\u001b[0;32m     98\u001b[0m \u001b[0mNsteps\u001b[0m \u001b[1;33m=\u001b[0m \u001b[1;36m1e4\u001b[0m \u001b[1;31m#number of time steps for the loop\u001b[0m\u001b[1;33m\u001b[0m\u001b[1;33m\u001b[0m\u001b[0m\n",
      "\u001b[1;32m~\\anaconda3\\lib\\site-packages\\vpython\\vpython.py\u001b[0m in \u001b[0;36mpause\u001b[1;34m(self, *s)\u001b[0m\n\u001b[0;32m   3300\u001b[0m         \u001b[1;32melse\u001b[0m\u001b[1;33m:\u001b[0m\u001b[1;33m\u001b[0m\u001b[1;33m\u001b[0m\u001b[0m\n\u001b[0;32m   3301\u001b[0m             \u001b[0mself\u001b[0m\u001b[1;33m.\u001b[0m\u001b[0maddmethod\u001b[0m\u001b[1;33m(\u001b[0m\u001b[1;34m'pause'\u001b[0m\u001b[1;33m,\u001b[0m \u001b[1;34m''\u001b[0m\u001b[1;33m)\u001b[0m\u001b[1;33m\u001b[0m\u001b[1;33m\u001b[0m\u001b[0m\n\u001b[1;32m-> 3302\u001b[1;33m         \u001b[0m_wait\u001b[0m\u001b[1;33m(\u001b[0m\u001b[0mself\u001b[0m\u001b[1;33m)\u001b[0m\u001b[1;33m\u001b[0m\u001b[1;33m\u001b[0m\u001b[0m\n\u001b[0m\u001b[0;32m   3303\u001b[0m         \u001b[1;32mreturn\u001b[0m \u001b[0mself\u001b[0m\u001b[1;33m.\u001b[0m\u001b[0m_waitfor\u001b[0m\u001b[1;33m\u001b[0m\u001b[1;33m\u001b[0m\u001b[0m\n\u001b[0;32m   3304\u001b[0m \u001b[1;33m\u001b[0m\u001b[0m\n",
      "\u001b[1;32m~\\anaconda3\\lib\\site-packages\\vpython\\vpython.py\u001b[0m in \u001b[0;36m_wait\u001b[1;34m(cvs)\u001b[0m\n\u001b[0;32m    406\u001b[0m     \u001b[1;32mif\u001b[0m \u001b[0m_isnotebook\u001b[0m\u001b[1;33m:\u001b[0m \u001b[0mbaseObj\u001b[0m\u001b[1;33m.\u001b[0m\u001b[0mtrigger\u001b[0m\u001b[1;33m(\u001b[0m\u001b[1;33m)\u001b[0m \u001b[1;31m# in notebook environment must send methods immediately\u001b[0m\u001b[1;33m\u001b[0m\u001b[1;33m\u001b[0m\u001b[0m\n\u001b[0;32m    407\u001b[0m     \u001b[1;32mwhile\u001b[0m \u001b[0mcvs\u001b[0m\u001b[1;33m.\u001b[0m\u001b[0m_waitfor\u001b[0m \u001b[1;32mis\u001b[0m \u001b[1;32mNone\u001b[0m\u001b[1;33m:\u001b[0m\u001b[1;33m\u001b[0m\u001b[1;33m\u001b[0m\u001b[0m\n\u001b[1;32m--> 408\u001b[1;33m         \u001b[0mrate\u001b[0m\u001b[1;33m(\u001b[0m\u001b[1;36m30\u001b[0m\u001b[1;33m)\u001b[0m\u001b[1;33m\u001b[0m\u001b[1;33m\u001b[0m\u001b[0m\n\u001b[0m\u001b[0;32m    409\u001b[0m     \u001b[1;32mreturn\u001b[0m \u001b[0mcvs\u001b[0m\u001b[1;33m.\u001b[0m\u001b[0m_waitfor\u001b[0m\u001b[1;33m\u001b[0m\u001b[1;33m\u001b[0m\u001b[0m\n\u001b[0;32m    410\u001b[0m \u001b[1;33m\u001b[0m\u001b[0m\n",
      "\u001b[1;32m~\\anaconda3\\lib\\site-packages\\vpython\\rate_control.py\u001b[0m in \u001b[0;36m__call__\u001b[1;34m(self, N)\u001b[0m\n\u001b[0;32m    264\u001b[0m         \u001b[0mself\u001b[0m\u001b[1;33m.\u001b[0m\u001b[0mrval\u001b[0m \u001b[1;33m=\u001b[0m \u001b[0mN\u001b[0m\u001b[1;33m\u001b[0m\u001b[1;33m\u001b[0m\u001b[0m\n\u001b[0;32m    265\u001b[0m         \u001b[1;32mif\u001b[0m \u001b[0mself\u001b[0m\u001b[1;33m.\u001b[0m\u001b[0mrval\u001b[0m \u001b[1;33m<\u001b[0m \u001b[1;36m1\u001b[0m\u001b[1;33m:\u001b[0m \u001b[1;32mraise\u001b[0m \u001b[0mValueError\u001b[0m\u001b[1;33m(\u001b[0m\u001b[1;34m\"rate value must be greater than or equal to 1\"\u001b[0m\u001b[1;33m)\u001b[0m\u001b[1;33m\u001b[0m\u001b[1;33m\u001b[0m\u001b[0m\n\u001b[1;32m--> 266\u001b[1;33m         \u001b[0msuper\u001b[0m\u001b[1;33m(\u001b[0m\u001b[0m_RateKeeper2\u001b[0m\u001b[1;33m,\u001b[0m \u001b[0mself\u001b[0m\u001b[1;33m)\u001b[0m\u001b[1;33m.\u001b[0m\u001b[0m__call__\u001b[0m\u001b[1;33m(\u001b[0m\u001b[0mself\u001b[0m\u001b[1;33m.\u001b[0m\u001b[0mrval\u001b[0m\u001b[1;33m)\u001b[0m \u001b[1;31m## calls __call__ in rate_control.py\u001b[0m\u001b[1;33m\u001b[0m\u001b[1;33m\u001b[0m\u001b[0m\n\u001b[0m\u001b[0;32m    267\u001b[0m \u001b[1;33m\u001b[0m\u001b[0m\n\u001b[0;32m    268\u001b[0m \u001b[1;33m\u001b[0m\u001b[0m\n",
      "\u001b[1;32m~\\anaconda3\\lib\\site-packages\\vpython\\rate_control.py\u001b[0m in \u001b[0;36m__call__\u001b[1;34m(self, maxRate)\u001b[0m\n\u001b[0;32m    212\u001b[0m                 \u001b[1;32mif\u001b[0m \u001b[0mself\u001b[0m\u001b[1;33m.\u001b[0m\u001b[0mwhenToRender\u001b[0m\u001b[1;33m[\u001b[0m\u001b[0mself\u001b[0m\u001b[1;33m.\u001b[0m\u001b[0mrenderIndex\u001b[0m\u001b[1;33m]\u001b[0m \u001b[1;33m==\u001b[0m \u001b[0mself\u001b[0m\u001b[1;33m.\u001b[0m\u001b[0mrateCount\u001b[0m\u001b[1;33m:\u001b[0m\u001b[1;33m\u001b[0m\u001b[1;33m\u001b[0m\u001b[0m\n\u001b[0;32m    213\u001b[0m                     \u001b[0msleeps\u001b[0m \u001b[1;33m+=\u001b[0m \u001b[1;36m1\u001b[0m\u001b[1;33m\u001b[0m\u001b[1;33m\u001b[0m\u001b[0m\n\u001b[1;32m--> 214\u001b[1;33m                     \u001b[0m_sleep\u001b[0m\u001b[1;33m(\u001b[0m\u001b[0mself\u001b[0m\u001b[1;33m.\u001b[0m\u001b[0minteractionPeriod\u001b[0m\u001b[1;33m)\u001b[0m\u001b[1;33m\u001b[0m\u001b[1;33m\u001b[0m\u001b[0m\n\u001b[0m\u001b[0;32m    215\u001b[0m                 \u001b[1;32melse\u001b[0m\u001b[1;33m:\u001b[0m\u001b[1;33m\u001b[0m\u001b[1;33m\u001b[0m\u001b[0m\n\u001b[0;32m    216\u001b[0m                     \u001b[1;32mbreak\u001b[0m\u001b[1;33m\u001b[0m\u001b[1;33m\u001b[0m\u001b[0m\n",
      "\u001b[1;32m~\\anaconda3\\lib\\site-packages\\vpython\\rate_control.py\u001b[0m in \u001b[0;36m_sleep\u001b[1;34m(dt)\u001b[0m\n\u001b[0;32m     60\u001b[0m         \u001b[0mdtsleep\u001b[0m \u001b[1;33m=\u001b[0m \u001b[0mnticks\u001b[0m\u001b[1;33m*\u001b[0m\u001b[0m_tick\u001b[0m\u001b[1;33m\u001b[0m\u001b[1;33m\u001b[0m\u001b[0m\n\u001b[0;32m     61\u001b[0m         \u001b[0mt\u001b[0m \u001b[1;33m=\u001b[0m \u001b[0m_clock\u001b[0m\u001b[1;33m(\u001b[0m\u001b[1;33m)\u001b[0m\u001b[1;33m\u001b[0m\u001b[1;33m\u001b[0m\u001b[0m\n\u001b[1;32m---> 62\u001b[1;33m         \u001b[0mtime\u001b[0m\u001b[1;33m.\u001b[0m\u001b[0msleep\u001b[0m\u001b[1;33m(\u001b[0m\u001b[0mdtsleep\u001b[0m\u001b[1;33m)\u001b[0m\u001b[1;33m\u001b[0m\u001b[1;33m\u001b[0m\u001b[0m\n\u001b[0m\u001b[0;32m     63\u001b[0m         \u001b[0mt\u001b[0m \u001b[1;33m=\u001b[0m \u001b[0m_clock\u001b[0m\u001b[1;33m(\u001b[0m\u001b[1;33m)\u001b[0m\u001b[1;33m-\u001b[0m\u001b[0mt\u001b[0m\u001b[1;33m\u001b[0m\u001b[1;33m\u001b[0m\u001b[0m\n\u001b[0;32m     64\u001b[0m         \u001b[0mdt\u001b[0m \u001b[1;33m-=\u001b[0m \u001b[0mt\u001b[0m\u001b[1;33m\u001b[0m\u001b[1;33m\u001b[0m\u001b[0m\n",
      "\u001b[1;31mKeyboardInterrupt\u001b[0m: "
     ]
    }
   ],
   "source": [
    "scene = canvas(title=\"Density of ideal gases in box affected by gravity\")\n",
    "\n",
    "#constants\n",
    "m = 2.6566962e-26 #mass of atom in kg #old value 1.7e-27\n",
    "R = 1.52e-10 #radius of atom in m  #old value 0.5e-10\n",
    "L = 40*R #length of box in m\n",
    "thick = L/100 #thickness of box wall in m\n",
    "k = 1.4e-23 #boltzmann constant\n",
    "T = 288 #temp in K  #old value 300\n",
    "s =  np.sqrt(2*3/2*k*T/m) #initial speed\n",
    "Volume = 4/3*pi*R**3 # volume of particle| expected value is 5.23598e-31\n",
    "segmentVolume = L*L*(L*.3333)  #volume of each segment\n",
    "\n",
    "#segment boundaries and starting amounts of particles in each boundary\n",
    "topBottomBound = L/2 - L*.3333\n",
    "bottomUpperBound = -L/2 + L*.3333\n",
    "topAmount = 0\n",
    "midAmount = 0\n",
    "botAmount = 0\n",
    "\n",
    "print(\"Please wait until the end of the simulation in order to fully understand the data and its interactions\")\n",
    "print(\"Volume of particle(expected value:5.23598e-31)\",Volume)  #check that values are expected\n",
    "print(\"Volume of each segment\",segmentVolume)\n",
    "\n",
    "\n",
    "#visual objects\n",
    "Lwall = box(pos = vec(-L/2, 0, 0), size = vec(thick, L, L), color=color.white)\n",
    "Rwall = box(pos = vec(L/2, 0, 0), size = vec(thick, L, L), color=color.white)\n",
    "Bwall = box(pos = vec(0, -L/2, 0), size = vec(L, thick, L), color=color.white)\n",
    "Twall = box(pos = vec(0, L/2, 0), size = vec(L, thick, L), color=color.white)\n",
    "Zwall = box(pos = vec(0, 0, -L/2), size = vec(L, L, thick), color=color.white)\n",
    "\n",
    "#segment indicators\n",
    "topseg = box(pos = vec(0,topBottomBound,0), size = vec(L,thick/2,L), color=color.yellow)\n",
    "botseg = box(pos = vec(0,bottomUpperBound,0), size = vec(L,thick/2,L), color=color.yellow)\n",
    "\n",
    "particles = [] #list of particles\n",
    "\n",
    "N=200 #number of particles\n",
    "\n",
    "#create particles\n",
    "for i in range(N):\n",
    "    if i==0:\n",
    "        particle = sphere(pos = L/2*vec(rand.uniform(-0.9,0.9),rand.uniform(-0.9,0.9),rand.uniform(-0.9,0.9)), radius = R, color = color.cyan, make_trail=True, retain=20, trail_radius=0.3*R)\n",
    "    else:\n",
    "        particle = sphere(pos = L/2*vec(rand.uniform(-0.9,0.9),rand.uniform(-0.9,0.9),rand.uniform(-0.9,0.9)), radius = R, color = color.red)\n",
    "\n",
    "    #initial velocity\n",
    "    particle.v = s*hat(vec(rand.uniform(-1,1), rand.uniform(-1,1), rand.uniform(-1,1)))\n",
    "    particle.p = m*particle.v\n",
    "\n",
    "    particles.append(particle)\n",
    "\n",
    "#check for collisions and rerandomize positions of particles that are collided\n",
    "collided_pairs = check_collisions()\n",
    "while len(collided_pairs)!=0:\n",
    "    for pair in collided_pairs:\n",
    "        particles[pair[0]].pos = L/2*vec(rand.uniform(-1,1),rand.uniform(-1,1),rand.uniform(-1,1))\n",
    "        particles[pair[1]].pos = L/2*vec(rand.uniform(-1,1),rand.uniform(-1,1),rand.uniform(-1,1))\n",
    "        #print(\"finding new positions please wait...\")\n",
    "    collided_pairs = check_collisions()\n",
    "\n",
    "#time\n",
    "t = 0\n",
    "dt = R/s/10\n",
    "\n",
    "\n",
    "\n",
    "#Counting particles in each segment\n",
    "for particle in particles:\n",
    "    if particle.pos.y > topBottomBound:  #checks if the y pos of the particle is located in the upper segment \n",
    "        topAmount +=1\n",
    "        \n",
    "    elif particle.pos.y < bottomUpperBound:  #checks if the y pos of the particle is located in the lower segment \n",
    "        botAmount +=1\n",
    "        \n",
    "    else:\n",
    "        midAmount +=1\n",
    "        \n",
    "#find out starting densities in g/m^3\n",
    "topDensity = ((topAmount*Volume)/segmentVolume)\n",
    "midDensity = ((midAmount*Volume)/segmentVolume)\n",
    "botDensity = ((botAmount*Volume)/segmentVolume)\n",
    "\n",
    "print(\"Starting amount of particles in top segment\",topAmount)\n",
    "print(\"Starting amount of particles in middle segment\",midAmount)\n",
    "print(\"Starting amount of particles in bottom segment\",botAmount,\"\\n\")\n",
    "\n",
    "print(\"Starting top segment Density {0:.4} kg/m^3\".format(topDensity))\n",
    "print(\"Starting mid segment Density {0:.4} kg/m^3\".format(midDensity))\n",
    "print(\"Starting bot segment Density {0:.4} kg/m^3\".format(botDensity),\"\\n\")\n",
    "\n",
    "\n",
    "\n",
    "#evolution\n",
    "scene.pause()\n",
    "\n",
    "Nsteps = 1e4 #number of time steps for the loop\n",
    "while t < Nsteps*dt:\n",
    "    rate(1000) #sets number of loops per second in order to slow down or speed up visualization\n",
    "    \n",
    "    \n",
    "    \n",
    "    #update position of each particle\n",
    "    for particle in particles:\n",
    "        particle.p = particle.p + (FNet*dt)\n",
    "        particle.v = particle.p/m\n",
    "        particle.pos = particle.pos + particle.v*dt \n",
    "        \n",
    "    #handle collisions of particles with each other\n",
    "    collided_pairs = check_collisions()\n",
    "    for pair in collided_pairs:\n",
    "        i = pair[0]\n",
    "        j = pair[1]\n",
    "        calc_collision(i,j)\n",
    "    \n",
    "    #handle collision with walls\n",
    "    for particle in particles:\n",
    "        if particle.pos.x > L/2:\n",
    "            particle.v.x = - abs(particle.v.x)\n",
    "            particle.p = m*particle.v\n",
    "        elif particle.pos.x < -L/2:\n",
    "            particle.v.x = abs(particle.v.x)\n",
    "            particle.p = m*particle.v\n",
    "\n",
    "        if particle.pos.y > L/2:\n",
    "            particle.v.y = - abs(particle.v.y)\n",
    "            particle.p = m*particle.v\n",
    "        elif particle.pos.y < -L/2:\n",
    "            particle.v.y = abs(particle.v.y)\n",
    "            particle.p = m*particle.v\n",
    "\n",
    "        if particle.pos.z > L/2:\n",
    "            particle.v.z = - abs(particle.v.z)\n",
    "            particle.p = m*particle.v\n",
    "        elif particle.pos.z < -L/2:\n",
    "            particle.v.z = abs(particle.v.z)\n",
    "            particle.p = m*particle.v\n",
    "            \n",
    "            \n",
    "\n",
    "            \n",
    "     \n",
    "    t = t + dt\n",
    "\n",
    "#reset the counts\n",
    "topAmount = 0\n",
    "midAmount = 0\n",
    "botAmount = 0\n",
    "\n",
    "#Counting particles in each segment\n",
    "for particle in particles:\n",
    "    if particle.pos.y > topBottomBound:  #checks if the y pos of the particle is located in the upper segment \n",
    "        topAmount +=1\n",
    "        \n",
    "    elif particle.pos.y < bottomUpperBound:  #checks if the y pos of the particle is located in the lower segment \n",
    "        botAmount +=1       \n",
    "    else:\n",
    "        midAmount +=1\n",
    "        \n",
    "print(\"Ending amount of particles in top segment\",topAmount)\n",
    "print(\"Ending amount of particles in middle segment\",midAmount)\n",
    "print(\"Ending amount of particles in bottom segment\",botAmount,\"\\n\")  \n",
    "\n",
    "topDensity = ((topAmount*Volume)/segmentVolume)\n",
    "midDensity = ((midAmount*Volume)/segmentVolume)\n",
    "botDensity = ((botAmount*Volume)/segmentVolume)\n",
    "\n",
    "\n",
    "print(\"Ending top segment Density {0:.4} kg/m^3\".format(topDensity))\n",
    "print(\"Ending middle segment Density {0:.4} kg/m^3\".format(midDensity))\n",
    "print(\"Ending bottom segment Density {0:.4} kg/m^3\".format(botDensity))"
   ]
  },
  {
   "cell_type": "markdown",
   "id": "de8969e6",
   "metadata": {},
   "source": [
    "# There seems to be a problem\n",
    "With Gravity, our simulation has no noticiable or measurable differences.\n",
    "\n",
    "I hypothesise that this is because the box is relatively short and therefore cannot accurately represent a significant change in altitude. We also see there is quite a lot of empty space in the box compared to a gas in real life. \n",
    "\n",
    "To fix this lets make the box into a recatangle that is much taller than it is wide. Also in our simulation we are going to significantly increase the number of particles in order it to more closely match real life.\n",
    "\n",
    "##### Important Note:\n",
    "This simulation is very taxing in python and on my laptop so in order to combat this I have removed the z values for the next simulation. I belive this is the best way to be able to keep the model operating at a watchable speed and stay as accurate as possible."
   ]
  },
  {
   "cell_type": "code",
   "execution_count": 5,
   "id": "c21432ce",
   "metadata": {},
   "outputs": [],
   "source": [
    "#Gravity \n",
    "m = 3.6863964e-25 *10000\n",
    "FNet = vec(0,-9.8*m,0) #force of gravity\n",
    "\n",
    "#Since we have no other forces acting upon the particles we can infer that FNet = FGrav"
   ]
  },
  {
   "cell_type": "code",
   "execution_count": null,
   "id": "5215b908",
   "metadata": {},
   "outputs": [
    {
     "data": {
      "text/html": [
       "<div id=\"glowscript\" class=\"glowscript\"></div>"
      ],
      "text/plain": [
       "<IPython.core.display.HTML object>"
      ]
     },
     "metadata": {},
     "output_type": "display_data"
    },
    {
     "data": {
      "application/javascript": [
       "if (typeof Jupyter !== \"undefined\") { window.__context = { glowscript_container: $(\"#glowscript\").removeAttr(\"id\")};}else{ element.textContent = ' ';}"
      ],
      "text/plain": [
       "<IPython.core.display.Javascript object>"
      ]
     },
     "metadata": {},
     "output_type": "display_data"
    },
    {
     "name": "stdout",
     "output_type": "stream",
     "text": [
      "Initial speed:  0.010673912259747075\n",
      "Volume of the box in m^3:  1.2361564159999995e-16\n",
      "Volume of each segment:  3.090391039999999e-17 \n",
      "\n",
      "Starting amount of particles in seg 1:  55\n",
      "Starting amount of particles in seg 2:  48\n",
      "Starting amount of particles in seg 3:  54\n",
      "Starting amount of particles in seg 4:  43 \n",
      "\n",
      "Starting density of particles in seg 1 0.02618 in kg/m^3: \n",
      "Starting density of particles in seg 2 0.02285 in kg/m^3: \n",
      "Starting density of particles in seg 3 0.0257 in kg/m^3: \n",
      "Starting density of particles in seg 4 0.02047 in kg/m^3:  \n",
      "\n"
     ]
    }
   ],
   "source": [
    "scene = canvas(title = \"2D representation of ideal gas affected by gravity\")\n",
    "\n",
    "m = 3.6863964e-25 *10000 #the *1000000 is to help show gravity's effects in such a short time span\n",
    "k = 1.4e-23 #boltzmann constant\n",
    "R = 1.52e-10 *1000#radius of atom in m *1000 to make scene more visible\n",
    "T=1 #temp in kelvin 288 old\n",
    "D=R*2  #diameter of atom in m\n",
    "L=10*D #length of box in m\n",
    "H=400*D #height of box in m\n",
    "W=D+D*.1 #width of box in m\n",
    "thick = L/30\n",
    "s =  (np.sqrt(2*3/2*k*T/m))/10 #initial speed half of original\n",
    "Volume = L*W*H #volume of box in m\n",
    "partVolume = 4/3*pi*R**3  #volume of particle\n",
    "segVol = Volume/4 #volume of each segment (4)\n",
    "\n",
    "#visual objects\n",
    "Lwall = box(pos = vec(-L/2,0,0), size = vec(thick,H, W), color=color.white)\n",
    "Rwall = box(pos = vec(L/2,0,0), size = vec(thick,H, W), color=color.white)\n",
    "Bwall = box(pos = vec(0,-H/2,0), size = vec(L,thick,W), color=color.white)\n",
    "Twall = box(pos = vec(0,H/2,0), size = vec(L,thick,W), color=color.white)\n",
    "Zwall = box(pos = vec(0,0,-W/2), size = vec(L,H,thick), color=color.white)\n",
    "\n",
    "#boxes from top to bottom are in following order\n",
    "#TWall\n",
    "#seg1\n",
    "#..\n",
    "#BWall\n",
    "Seg1 = box(pox = vec(0,H/4,0),size =vec(L,thick/4,W), color= color.yellow)\n",
    "Seg2 = box(pox = vec(0,0,0),size =vec(L,thick/4,W), color= color.yellow)\n",
    "Seg3 = box(pox = vec(0,-H/4,0),size =vec(L,thick/4,W), color= color.yellow)\n",
    "print(\"Initial speed: \",s)\n",
    "print(\"Volume of the box in m^3: \",Volume)\n",
    "print(\"Volume of each segment: \",segVol,\"\\n\")\n",
    "\n",
    "#initialize amount of particles in each segment\n",
    "seg1amount =0\n",
    "seg2amount =0\n",
    "seg3amount =0\n",
    "seg4amount =0\n",
    "\n",
    "\n",
    "N=200 #number of particles\n",
    "particles = [] \n",
    "\n",
    "#create particles\n",
    "for i in range(N):\n",
    "    if i==0:\n",
    "        particle = sphere(pos = vec(L/2*rand.uniform(-0.9,0.9),H/2*rand.uniform(-0.9,0.9),0), radius = R, color = color.cyan, make_trail=True, retain=20, trail_radius=0.3*R)\n",
    "    else:\n",
    "        particle = sphere(pos = vec(L/2*rand.uniform(-0.9,0.9),H/2*rand.uniform(-0.9,0.9),0), radius = R, color = color.red)\n",
    "\n",
    "    #initial velocity\n",
    "    particle.v = s*hat(vec(rand.uniform(-1,1), rand.uniform(-1,1), 0))\n",
    "    particle.p = m*particle.v\n",
    "\n",
    "    particles.append(particle)\n",
    "    \n",
    "#check for collisions and rerandomize positions of particles that are collided\n",
    "collided_pairs = check_collisions()\n",
    "while len(collided_pairs)!=0:\n",
    "    for pair in collided_pairs:\n",
    "        particles[pair[0]].pos = vec(L/2*rand.uniform(-1,1),H/2*rand.uniform(-1,1),0)\n",
    "        particles[pair[1]].pos = vec(L/2*rand.uniform(-1,1),H/2*rand.uniform(-1,1),0)\n",
    "        collided_pairs = check_collisions()\n",
    "\n",
    "#time\n",
    "t =0\n",
    "dt = R/s/10\n",
    "                                     \n",
    "#Counting particles in each segment\n",
    "for particle in particles:\n",
    "    if particle.pos.y > H/4:\n",
    "        seg1amount +=1\n",
    "                                     \n",
    "    elif particle.pos.y < H/4 and particle.pos.y > 0:\n",
    "        seg2amount +=1\n",
    "\n",
    "    elif particle.pos.y < 0 and particle.pos.y > -H/4:\n",
    "        seg3amount +=1\n",
    "                                     \n",
    "    elif particle.pos.y <-H/4:\n",
    "        seg4amount +=1\n",
    "\n",
    "#output amount of particles in each segment before the simulation has started \n",
    "print(\"Starting amount of particles in seg 1: \",seg1amount)\n",
    "print(\"Starting amount of particles in seg 2: \",seg2amount)\n",
    "print(\"Starting amount of particles in seg 3: \",seg3amount)\n",
    "print(\"Starting amount of particles in seg 4: \",seg4amount,\"\\n\")\n",
    "\n",
    "seg1Density = ((seg1amount*partVolume)/segVol)\n",
    "seg2Density = ((seg2amount*partVolume)/segVol)\n",
    "seg3Density = ((seg3amount*partVolume)/segVol)\n",
    "seg4Density = ((seg4amount*partVolume)/segVol)\n",
    "\n",
    "print(\"Starting density of particles in seg 1 {0:.4} in kg/m^3: \".format(seg1Density))\n",
    "print(\"Starting density of particles in seg 2 {0:.4} in kg/m^3: \".format(seg2Density))\n",
    "print(\"Starting density of particles in seg 3 {0:.4} in kg/m^3: \".format(seg3Density))\n",
    "print(\"Starting density of particles in seg 4 {0:.4} in kg/m^3: \".format(seg4Density),\"\\n\")\n",
    "\n",
    "\n",
    "\n",
    "#evolution\n",
    "scene.pause()\n",
    "\n",
    "Nsteps = 1e4 #number of time steps for the loop\n",
    "while t < Nsteps*dt:\n",
    "    rate(1000) #sets number of loops per second in order to slow down or speed up visualization\n",
    "    \n",
    "    \n",
    "    \n",
    "    #update position of each particle\n",
    "    for particle in particles:\n",
    "#        if particle.color == color.cyan:\n",
    "#            print(particle.p)\n",
    "        particle.p = particle.p + (FNet*dt)\n",
    "#        if particle.color == color.cyan:\n",
    "#            print(particle.p)\n",
    "        particle.v = particle.p/m  #check\n",
    "        particle.pos = particle.pos + particle.v*dt\n",
    "        \n",
    "    #handle collisions of particles with each other\n",
    "    collided_pairs = check_collisions()\n",
    "    for pair in collided_pairs:\n",
    "        i = pair[0]\n",
    "        j = pair[1]\n",
    "        calc_collision(i,j)\n",
    "    \n",
    "    #handle collision with walls\n",
    "    for particle in particles:\n",
    "        if particle.pos.x > L/2:\n",
    "            particle.pos.x = -particle.pos.x + L/100\n",
    "            #particle.v.x = - abs(particle.v.x)\n",
    "            #particle.p = m*particle.v\n",
    "        elif particle.pos.x < -L/2:\n",
    "            particle.pos.x = -particle.pos.x - L/100\n",
    "            #particle.v.x = abs(particle.v.x)\n",
    "            #particle.p = m*particle.v\n",
    "\n",
    "        if particle.pos.y > H/2:\n",
    "            particle.v.y = - abs(particle.v.y)\n",
    "            particle.p = m*particle.v\n",
    "        elif particle.pos.y < -H/2:\n",
    "            particle.v.y = abs(particle.v.y)\n",
    "            particle.p = m*particle.v         \n",
    "     \n",
    "    t = t + dt\n",
    "    \n",
    "#reset the amount of particles in each segment\n",
    "seg1amount =0\n",
    "seg2amount =0\n",
    "seg3amount =0\n",
    "seg4amount =0\n",
    "\n",
    "#Counting particles in each segment\n",
    "for particle in particles:\n",
    "    if particle.pos.y > H/4:\n",
    "        seg1amount +=1\n",
    "                                     \n",
    "    elif particle.pos.y < H/4 and particle.pos.y > 0:\n",
    "        seg2amount +=1\n",
    "\n",
    "    elif particle.pos.y < 0 and particle.pos.y > -H/4:\n",
    "        seg3amount +=1\n",
    "                                     \n",
    "    elif particle.pos.y <-H/4:\n",
    "        seg4amount +=1\n",
    "\n",
    "#output amount of particles in each segment before the simulation has started \n",
    "print(\"Ending amount of particles in seg 1: \",seg1amount)\n",
    "print(\"Ending amount of particles in seg 2: \",seg2amount)\n",
    "print(\"Ending amount of particles in seg 3: \",seg3amount)\n",
    "print(\"Ending amount of particles in seg 4: \",seg4amount,\"\\n\")\n",
    "\n",
    "\n",
    "seg1Density = ((seg1amount*partVolume)/segVol)\n",
    "seg2Density = ((seg2amount*partVolume)/segVol)\n",
    "seg3Density = ((seg3amount*partVolume)/segVol)\n",
    "seg4Density = ((seg4amount*partVolume)/segVol)\n",
    "\n",
    "print(\"Ending density of particles in seg 1 {0:.4} in kg/m^3: \".format(seg1Density))\n",
    "print(\"Ending density of particles in seg 2 {0:.4} in kg/m^3: \".format(seg2Density))\n",
    "print(\"Ending density of particles in seg 3 {0:.4} in kg/m^3: \".format(seg3Density))\n",
    "print(\"Ending density of particles in seg 4 {0:.4} in kg/m^3: \".format(seg4Density),\"\\n\")"
   ]
  },
  {
   "attachments": {
    "WithGrav.png": {
     "image/png": "[encoded data removed]"
    }
   },
   "cell_type": "markdown",
   "id": "47c1b1fe",
   "metadata": {},
   "source": [
    "![WithGrav.png](attachment:WithGrav.png)"
   ]
  },
  {
   "cell_type": "markdown",
   "id": "a142ea60",
   "metadata": {},
   "source": [
    "# So, we found a way to represent an ideal gas in gravity\n",
    "## What did we have to sacrifice scientifically?\n",
    "\n",
    "Firstly this simulation is sped up by 1000x in order to see the results of gravity in a reasonable time frame. I accomplished that by increasing the mass of the particles which therefore increased the gravitational pull. This does make the simulation look as if gravity pulls gas down at a rapid rate however this is not the case. \n",
    "\n",
    "In order to see the true speed of the interactions I must keep the original mass accurate and drastically increase the time steps. With 1e6 time steps the result appears the same as above however it takes around ~40 minutes to complete; which is theoretically more accurate although I have not found a way to quantify the accuracy difference, if any.\n",
    "\n",
    "Also you can see that the particles no longer bounce off of the left and right walls, this is to further increase the similarties to real life. So while the box itself might be skinny the particles can travel with a positive or negative x velocity for much longer without collision which more closely resembles real life. I included this feature after looking at a similar simulation linked below.\n",
    "\n",
    "[Here](http://www.netlogoweb.org/launch#http://ccl.northwestern.edu/netlogo/models/models/Sample%20Models/Chemistry%20&%20Physics/GasLab/GasLab%20Gravity%20Box.nlogo)\n"
   ]
  },
  {
   "cell_type": "markdown",
   "id": "e65e53c6",
   "metadata": {},
   "source": [
    "# Let's Make some conclusions \n",
    "\n",
    "We can see that without gravity the density of the particles in the box is essentially random. There is no trend of the particles grouping in any particular segment. \n",
    "\n",
    "\n",
    "With gravity we can see that the ideal gas has a much higher density towards the bottom segments of the box and close to no particles in the very upper segment of the box. \n",
    "\n",
    "#### Extra Notes:\n",
    "Kg/m^3 was used for all density calculations as it seemed most popular online.\n",
    "Collision detection and particle-making code is exact code from in class assignments."
   ]
  },
  {
   "cell_type": "markdown",
   "id": "552dd280",
   "metadata": {},
   "source": [
    "### Below is the simulation with no altercations and many more time steps.\n",
    "\n",
    "This is the most pure form of the interactions that can be simulated.\n",
    "Warning this simulation will take a very long time to run."
   ]
  },
  {
   "cell_type": "code",
   "execution_count": null,
   "id": "8937388b",
   "metadata": {},
   "outputs": [],
   "source": [
    "#Gravity \n",
    "m = 3.6863964e-25\n",
    "FNet = vec(0,-9.8*m,0) #force of gravity"
   ]
  },
  {
   "cell_type": "code",
   "execution_count": null,
   "id": "a8fd0bc2",
   "metadata": {},
   "outputs": [],
   "source": [
    "scene = canvas(title = \"2D representation of ideal gas affected by gravity\")\n",
    "\n",
    "m = 3.6863964e-25 #mass\n",
    "k = 1.4e-23 #boltzmann constant\n",
    "R = 1.52e-10 *1000#radius of atom in m *1000 to make scene more visible\n",
    "T=1 #temp in kelvin 288 old\n",
    "D=R*2  #diameter of atom in m\n",
    "L=10*D #length of box in m\n",
    "H=400*D #height of box in m\n",
    "W=D+D*.1 #width of box in m\n",
    "thick = L/30\n",
    "s =  (np.sqrt(2*3/2*k*T/m))/10 #initial speed half of original\n",
    "Volume = L*W*H #volume of box in m\n",
    "partVolume = 4/3*pi*R**3  #volume of particle\n",
    "segVol = Volume/4 #volume of each segment (4)\n",
    "\n",
    "#visual objects\n",
    "Lwall = box(pos = vec(-L/2,0,0), size = vec(thick,H, W), color=color.white)\n",
    "Rwall = box(pos = vec(L/2,0,0), size = vec(thick,H, W), color=color.white)\n",
    "Bwall = box(pos = vec(0,-H/2,0), size = vec(L,thick,W), color=color.white)\n",
    "Twall = box(pos = vec(0,H/2,0), size = vec(L,thick,W), color=color.white)\n",
    "Zwall = box(pos = vec(0,0,-W/2), size = vec(L,H,thick), color=color.white)\n",
    "\n",
    "#boxes from top to bottom are in following order\n",
    "#TWall\n",
    "#seg1\n",
    "#..\n",
    "#BWall\n",
    "Seg1 = box(pox = vec(0,H/4,0),size =vec(L,thick/4,W), color= color.yellow)\n",
    "Seg2 = box(pox = vec(0,0,0),size =vec(L,thick/4,W), color= color.yellow)\n",
    "Seg3 = box(pox = vec(0,-H/4,0),size =vec(L,thick/4,W), color= color.yellow)\n",
    "print(\"Initial speed: \",s)\n",
    "print(\"Volume of the box in m^3: \",Volume)\n",
    "print(\"Volume of each segment: \",segVol,\"\\n\")\n",
    "\n",
    "#initialize amount of particles in each segment\n",
    "seg1amount =0\n",
    "seg2amount =0\n",
    "seg3amount =0\n",
    "seg4amount =0\n",
    "\n",
    "\n",
    "N=200 #number of particles\n",
    "particles = [] \n",
    "\n",
    "#create particles\n",
    "for i in range(N):\n",
    "    if i==0:\n",
    "        particle = sphere(pos = vec(L/2*rand.uniform(-0.9,0.9),H/2*rand.uniform(-0.9,0.9),0), radius = R, color = color.cyan, make_trail=True, retain=20, trail_radius=0.3*R)\n",
    "    else:\n",
    "        particle = sphere(pos = vec(L/2*rand.uniform(-0.9,0.9),H/2*rand.uniform(-0.9,0.9),0), radius = R, color = color.red)\n",
    "\n",
    "    #initial velocity\n",
    "    particle.v = s*hat(vec(rand.uniform(-1,1), rand.uniform(-1,1), 0))\n",
    "    particle.p = m*particle.v\n",
    "\n",
    "    particles.append(particle)\n",
    "    \n",
    "#check for collisions and rerandomize positions of particles that are collided\n",
    "collided_pairs = check_collisions()\n",
    "while len(collided_pairs)!=0:\n",
    "    for pair in collided_pairs:\n",
    "        particles[pair[0]].pos = vec(L/2*rand.uniform(-1,1),H/2*rand.uniform(-1,1),0)\n",
    "        particles[pair[1]].pos = vec(L/2*rand.uniform(-1,1),H/2*rand.uniform(-1,1),0)\n",
    "        collided_pairs = check_collisions()\n",
    "\n",
    "#time\n",
    "t =0\n",
    "dt = R/s/10\n",
    "                                     \n",
    "#Counting particles in each segment\n",
    "for particle in particles:\n",
    "    if particle.pos.y > H/4:\n",
    "        seg1amount +=1\n",
    "                                     \n",
    "    elif particle.pos.y < H/4 and particle.pos.y > 0:\n",
    "        seg2amount +=1\n",
    "\n",
    "    elif particle.pos.y < 0 and particle.pos.y > -H/4:\n",
    "        seg3amount +=1\n",
    "                                     \n",
    "    elif particle.pos.y <-H/4:\n",
    "        seg4amount +=1\n",
    "\n",
    "#output amount of particles in each segment before the simulation has started \n",
    "print(\"Starting amount of particles in seg 1: \",seg1amount)\n",
    "print(\"Starting amount of particles in seg 2: \",seg2amount)\n",
    "print(\"Starting amount of particles in seg 3: \",seg3amount)\n",
    "print(\"Starting amount of particles in seg 4: \",seg4amount,\"\\n\")\n",
    "\n",
    "seg1Density = ((seg1amount*partVolume)/segVol)\n",
    "seg2Density = ((seg2amount*partVolume)/segVol)\n",
    "seg3Density = ((seg3amount*partVolume)/segVol)\n",
    "seg4Density = ((seg4amount*partVolume)/segVol)\n",
    "\n",
    "print(\"Starting density of particles in seg 1 {0:.4} in kg/m^3: \".format(seg1Density))\n",
    "print(\"Starting density of particles in seg 2 {0:.4} in kg/m^3: \".format(seg2Density))\n",
    "print(\"Starting density of particles in seg 3 {0:.4} in kg/m^3: \".format(seg3Density))\n",
    "print(\"Starting density of particles in seg 4 {0:.4} in kg/m^3: \".format(seg4Density),\"\\n\")\n",
    "\n",
    "\n",
    "\n",
    "#evolution\n",
    "scene.pause()\n",
    "\n",
    "Nsteps = 1e6 #number of time steps for the loop\n",
    "while t < Nsteps*dt:\n",
    "    rate(1000) #sets number of loops per second in order to slow down or speed up visualization\n",
    "    \n",
    "    \n",
    "    \n",
    "    #update position of each particle\n",
    "    for particle in particles:\n",
    "#        if particle.color == color.cyan:\n",
    "#            print(particle.p)\n",
    "        particle.p = particle.p + (FNet*dt)\n",
    "#        if particle.color == color.cyan:\n",
    "#            print(particle.p)\n",
    "        particle.v = particle.p/m  #check\n",
    "        particle.pos = particle.pos + particle.v*dt\n",
    "        \n",
    "    #handle collisions of particles with each other\n",
    "    collided_pairs = check_collisions()\n",
    "    for pair in collided_pairs:\n",
    "        i = pair[0]\n",
    "        j = pair[1]\n",
    "        calc_collision(i,j)\n",
    "    \n",
    "    #handle collision with walls\n",
    "    for particle in particles:\n",
    "        if particle.pos.x > L/2:\n",
    "            particle.pos.x = -particle.pos.x + L/100\n",
    "            #particle.v.x = - abs(particle.v.x)\n",
    "            #particle.p = m*particle.v\n",
    "        elif particle.pos.x < -L/2:\n",
    "            particle.pos.x = -particle.pos.x - L/100\n",
    "            #particle.v.x = abs(particle.v.x)\n",
    "            #particle.p = m*particle.v\n",
    "\n",
    "        if particle.pos.y > H/2:\n",
    "            particle.v.y = - abs(particle.v.y)\n",
    "            particle.p = m*particle.v\n",
    "        elif particle.pos.y < -H/2:\n",
    "            particle.v.y = abs(particle.v.y)\n",
    "            particle.p = m*particle.v         \n",
    "     \n",
    "    t = t + dt\n",
    "    \n",
    "#reset the amount of particles in each segment\n",
    "seg1amount =0\n",
    "seg2amount =0\n",
    "seg3amount =0\n",
    "seg4amount =0\n",
    "\n",
    "#Counting particles in each segment\n",
    "for particle in particles:\n",
    "    if particle.pos.y > H/4:\n",
    "        seg1amount +=1\n",
    "                                     \n",
    "    elif particle.pos.y < H/4 and particle.pos.y > 0:\n",
    "        seg2amount +=1\n",
    "\n",
    "    elif particle.pos.y < 0 and particle.pos.y > -H/4:\n",
    "        seg3amount +=1\n",
    "                                     \n",
    "    elif particle.pos.y <-H/4:\n",
    "        seg4amount +=1\n",
    "\n",
    "#output amount of particles in each segment before the simulation has started \n",
    "print(\"Ending amount of particles in seg 1: \",seg1amount)\n",
    "print(\"Ending amount of particles in seg 2: \",seg2amount)\n",
    "print(\"Ending amount of particles in seg 3: \",seg3amount)\n",
    "print(\"Ending amount of particles in seg 4: \",seg4amount,\"\\n\")\n",
    "\n",
    "\n",
    "seg1Density = ((seg1amount*partVolume)/segVol)\n",
    "seg2Density = ((seg2amount*partVolume)/segVol)\n",
    "seg3Density = ((seg3amount*partVolume)/segVol)\n",
    "seg4Density = ((seg4amount*partVolume)/segVol)\n",
    "\n",
    "print(\"Ending density of particles in seg 1 {0:.4} in kg/m^3: \".format(seg1Density))\n",
    "print(\"Ending density of particles in seg 2 {0:.4} in kg/m^3: \".format(seg2Density))\n",
    "print(\"Ending density of particles in seg 3 {0:.4} in kg/m^3: \".format(seg3Density))\n",
    "print(\"Ending density of particles in seg 4 {0:.4} in kg/m^3: \".format(seg4Density),\"\\n\")"
   ]
  },
  {
   "cell_type": "markdown",
   "id": "2119b45a",
   "metadata": {},
   "source": []
  }
 ],
 "metadata": {
  "kernelspec": {
   "display_name": "Python 3 (ipykernel)",
   "language": "python",
   "name": "python3"
  },
  "language_info": {
   "codemirror_mode": {
    "name": "ipython",
    "version": 3
   },
   "file_extension": ".py",
   "mimetype": "text/x-python",
   "name": "python",
   "nbconvert_exporter": "python",
   "pygments_lexer": "ipython3",
   "version": "3.9.7"
  }
 },
 "nbformat": 4,
 "nbformat_minor": 5
}
