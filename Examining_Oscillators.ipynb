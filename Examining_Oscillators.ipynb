{
 "cells": [
  {
   "cell_type": "markdown",
   "id": "f6f6a613",
   "metadata": {},
   "source": [
    "# Examining the Affect of N,K, and M on the fundamental frequency of a System\n",
    "\n",
    "###### Option 1"
   ]
  },
  {
   "cell_type": "markdown",
   "id": "476e2012",
   "metadata": {},
   "source": [
    "## Why this project?\n",
    "In complete honesty the concept of coupled oscillators was a bit of a difficult one for me to grasp. Therefore, in this project we will take a look at how the parameters of the oscillators can effect the fundmental frequency and draw conclusions on the behavior of those oscillators in relation to N(the number of masses), K (the effective stiffness), and M(the total mass of the system)."
   ]
  },
  {
   "cell_type": "markdown",
   "id": "1ea93a26",
   "metadata": {},
   "source": [
    "Implementation of the ocsillators is one of the easier problems to solve as we already have the system that we want to test defined in 03. Let's import that system to here."
   ]
  },
  {
   "cell_type": "code",
   "execution_count": 38,
   "id": "33979ee2",
   "metadata": {},
   "outputs": [],
   "source": [
    "import numpy as np\n",
    "import matplotlib.pyplot as plt\n",
    "\n",
    "#animate with vpython\n",
    "from vpython import * #watch out for namespace conflicts\n",
    "\n",
    "# calculate eigenvalues and eigenvectors\n",
    "from scipy.linalg import eigh\n",
    "\n",
    "# print to markdown\n",
    "from IPython.display import display, Markdown, Latex\n"
   ]
  },
  {
   "cell_type": "code",
   "execution_count": 78,
   "id": "08f8402b",
   "metadata": {},
   "outputs": [],
   "source": [
    "def getfreq(mass,num,stiff):\n",
    "    #properties of the system\n",
    "    M = mass #mass of string in kg\n",
    "    L = 10 #length of string in m\n",
    "    K = stiff #effective stiffness in N/m\n",
    "    N = num #number of masses\n",
    "\n",
    "    #properties of each mass\n",
    "    m = M/N\n",
    "    L0 = L/(N-1)\n",
    "    k = K*(N-1)\n",
    "\n",
    "    #initial conditions\n",
    "    ui = np.zeros(N) #initial displacement\n",
    "    ui[0] = 1 #displace first mass\n",
    "\n",
    "    #Build matrices\n",
    "    A=np.zeros((N,N))\n",
    "\n",
    "    for i in range(N):\n",
    "        A[i,i] = 2*k #the diagonal\n",
    "        if i==0: #first row\n",
    "            A[0,i+1]=-k\n",
    "            A[i,i] = k #free end\n",
    "        elif i==N-1: #last row\n",
    "            A[i,i-1]=-k\n",
    "            A[i,i] = k #free end\n",
    "        else:\n",
    "            A[i,i-1]=-k\n",
    "            A[i,i+1]=-k\n",
    "\n",
    "    B=m*np.identity(N)\n",
    "\n",
    "    #find eigenvalues and eigenvectors\n",
    "    lamb, a = eigh(A, B)        # eigenvalues and eigenvectors\n",
    "    omegas = np.sqrt(lamb)\n",
    "\n",
    "    print(\"\\n frequencies (omega):\", omegas)\n",
    "    #print(\"\\n eigenvectors are column vectors in:\\n\\n\", a)"
   ]
  },
  {
   "cell_type": "code",
   "execution_count": 72,
   "id": "589699e5",
   "metadata": {},
   "outputs": [],
   "source": [
    "def plotmode(mode):\n",
    "    modeindex = mode\n",
    "    h = 0.01\n",
    "    ttotal = 20 #total time for calculations\n",
    "\n",
    "    # array of times\n",
    "    t = np.arange(0,ttotal,h)\n",
    "\n",
    "    # build data array with all data; u[:,0] is time; other columns are u_i for each atom i\n",
    "    u = np.zeros((int(ttotal/h), N+1))\n",
    "\n",
    "    u[:,0] = np.transpose(t) #t.T\n",
    "\n",
    "    for i in range(N):\n",
    "        u_atom = a[i,modeindex]*np.cos(omegas[modeindex]*t)\n",
    "        u[:,i+1] = np.transpose(u_atom)[:]\n",
    "\n",
    "    # plot\n",
    "#     plt.figure(figsize=(12,8))\n",
    "#     plt.title(\"displacement of each atom\")\n",
    "#     plt.xlabel(\"t (s)\")\n",
    "#     plt.ylabel(\"$u_i$ (m)\")\n",
    "#     for i in range(N): #plot each atom\n",
    "#         plt.plot(u[:,0], u[:,i+1], label=\"atom {:d}\".format(i+1))\n",
    "#     plt.grid()\n",
    "#     plt.legend()\n",
    "#     plt.show()\n",
    "    \n",
    "    plt.figure(figsize=(12,8))\n",
    "    plt.title(\"displacement of each atom (y)\")\n",
    "    plt.xlabel(\"t (s)\")\n",
    "    plt.ylabel(\"$u_i$ (m)\")\n",
    "    for i in range(N): #plot each atom\n",
    "        plt.plot(u[:,0], u[:,i+1], label=\"atom {:d}\".format(i+1))\n",
    "    plt.grid()\n",
    "    plt.legend()\n",
    "    plt.show()\n",
    "    \n",
    "    return u"
   ]
  },
  {
   "cell_type": "markdown",
   "id": "89afb155",
   "metadata": {},
   "source": [
    "\n",
    "\n",
    "In order to make this project neat and easy to read, all code is put into functions so we can easily feed in new M,K,and N without having to copy large portions of code."
   ]
  },
  {
   "cell_type": "code",
   "execution_count": 79,
   "id": "5cdf2bdd",
   "metadata": {},
   "outputs": [
    {
     "name": "stdout",
     "output_type": "stream",
     "text": [
      "\n",
      " frequencies (omega): [7.06985935e-09 7.07106781e-01 1.22474487e+00]\n"
     ]
    }
   ],
   "source": [
    "getfreq(12,3,1)"
   ]
  },
  {
   "cell_type": "markdown",
   "id": "617260d2",
   "metadata": {},
   "source": [
    "So, now the we have our function's defined. Let's start testing some variables to see how they affect our frequencies. The funtion *getfreq* inputs' are in order, mass, number of masses, and effective stiffness. Like true scientists we will only change one variable at a time and measure its changes. "
   ]
  },
  {
   "cell_type": "markdown",
   "id": "f8880b8f",
   "metadata": {},
   "source": [
    "### Effective stiffness (k) testing"
   ]
  },
  {
   "cell_type": "code",
   "execution_count": 80,
   "id": "9948da11",
   "metadata": {},
   "outputs": [
    {
     "name": "stdout",
     "output_type": "stream",
     "text": [
      "\n",
      " frequencies (omega): [1.66243392e-08 1.58113883e+00 2.73861279e+00]\n"
     ]
    }
   ],
   "source": [
    "getfreq(12,3,5)"
   ]
  },
  {
   "cell_type": "code",
   "execution_count": 81,
   "id": "d8baa41c",
   "metadata": {},
   "outputs": [
    {
     "name": "stdout",
     "output_type": "stream",
     "text": [
      "\n",
      " frequencies (omega): [2.35103659e-08 2.23606798e+00 3.87298335e+00]\n"
     ]
    }
   ],
   "source": [
    "getfreq(12,3,10)"
   ]
  },
  {
   "cell_type": "markdown",
   "id": "990c9356",
   "metadata": {},
   "source": [
    "   Through our first test of changing the stiffness we have some interesting observations to draw. The frequency of all three masses are increasing. Know what we know about springs we can also conclude that while the frequency of oscialltion has increased the distance that the masses travel during the osciallation has most certainly decreased. The changes are too small however to be noticed when plotting them side by side."
   ]
  },
  {
   "cell_type": "markdown",
   "id": "b21f848c",
   "metadata": {},
   "source": [
    "### Mass of system (M) testing"
   ]
  },
  {
   "cell_type": "code",
   "execution_count": 82,
   "id": "4048bd89",
   "metadata": {},
   "outputs": [
    {
     "name": "stdout",
     "output_type": "stream",
     "text": [
      "\n",
      " frequencies (omega): [7.06985935e-09 7.07106781e-01 1.22474487e+00]\n"
     ]
    }
   ],
   "source": [
    "getfreq(12,3,1)"
   ]
  },
  {
   "cell_type": "code",
   "execution_count": 83,
   "id": "a162ef48",
   "metadata": {},
   "outputs": [
    {
     "name": "stdout",
     "output_type": "stream",
     "text": [
      "\n",
      " frequencies (omega): [8.98363221e-09 4.33012702e-01 7.50000000e-01]\n"
     ]
    }
   ],
   "source": [
    "getfreq(32,3,1)"
   ]
  },
  {
   "cell_type": "code",
   "execution_count": 84,
   "id": "02fe2b94",
   "metadata": {},
   "outputs": [
    {
     "name": "stdout",
     "output_type": "stream",
     "text": [
      "\n",
      " frequencies (omega): [5.08060827e-09 3.39683110e-01 5.88348405e-01]\n"
     ]
    }
   ],
   "source": [
    "getfreq(52,3,1)"
   ]
  },
  {
   "cell_type": "markdown",
   "id": "c28c523a",
   "metadata": {},
   "source": [
    "As we increase the total mass of the system we see a bit of a discrepency. The frequency of the first mass increased from 12 to 32 but then fell from 32 to 52. This is not consistent with the other masses as they both decreased in frequency as mass increased. We can conclude that as the mass increases the frequency will decrease as the springs have to be compressed more in order to conteract the momentum of the heavier mass and therefore allow for further travel of the mass before it is sent in the other direction."
   ]
  },
  {
   "cell_type": "markdown",
   "id": "8f6b992c",
   "metadata": {},
   "source": [
    "### Number of Masses (N) testing\n",
    "As we increase the masses it can be a bit difficult to look at the number and tell what is going on so we will redfine our function to return the frequencies and then we shall add them togther for a \"total frequency of the system\" calculation for easy comparison."
   ]
  },
  {
   "cell_type": "code",
   "execution_count": 87,
   "id": "4ed122a5",
   "metadata": {},
   "outputs": [],
   "source": [
    "def getfreq(mass,num,stiff):\n",
    "    #properties of the system\n",
    "    M = mass #mass of string in kg\n",
    "    L = 10 #length of string in m\n",
    "    K = stiff #effective stiffness in N/m\n",
    "    N = num #number of masses\n",
    "\n",
    "    #properties of each mass\n",
    "    m = M/N\n",
    "    L0 = L/(N-1)\n",
    "    k = K*(N-1)\n",
    "\n",
    "    #initial conditions\n",
    "    ui = np.zeros(N) #initial displacement\n",
    "    ui[0] = 1 #displace first mass\n",
    "\n",
    "    #Build matrices\n",
    "    A=np.zeros((N,N))\n",
    "\n",
    "    for i in range(N):\n",
    "        A[i,i] = 2*k #the diagonal\n",
    "        if i==0: #first row\n",
    "            A[0,i+1]=-k\n",
    "            A[i,i] = k #free end\n",
    "        elif i==N-1: #last row\n",
    "            A[i,i-1]=-k\n",
    "            A[i,i] = k #free end\n",
    "        else:\n",
    "            A[i,i-1]=-k\n",
    "            A[i,i+1]=-k\n",
    "\n",
    "    B=m*np.identity(N)\n",
    "\n",
    "    #find eigenvalues and eigenvectors\n",
    "    lamb, a = eigh(A, B)        # eigenvalues and eigenvectors\n",
    "    omegas = np.sqrt(lamb)\n",
    "\n",
    "    #print(\"\\n frequencies (omega):\", omegas)\n",
    "    #print(\"\\n eigenvectors are column vectors in:\\n\\n\", a)\n",
    "    return omegas"
   ]
  },
  {
   "cell_type": "code",
   "execution_count": 94,
   "id": "9dab58dd",
   "metadata": {},
   "outputs": [
    {
     "name": "stdout",
     "output_type": "stream",
     "text": [
      "Total frequency for 3 masses: 1.9318516596479958\n"
     ]
    }
   ],
   "source": [
    "t = getfreq(12,3,1)\n",
    "i=0\n",
    "totalfreq=0\n",
    "while i < 3:\n",
    "    totalfreq = totalfreq + t[i]\n",
    "    i=i+1\n",
    "print(\"Total frequency for 3 masses:\",totalfreq)"
   ]
  },
  {
   "cell_type": "code",
   "execution_count": 95,
   "id": "6565cd6c",
   "metadata": {},
   "outputs": [
    {
     "name": "stdout",
     "output_type": "stream",
     "text": [
      "Total frequency for 5 masses: 6.860023728066815\n"
     ]
    }
   ],
   "source": [
    "t = getfreq(12,5,1)\n",
    "i=0\n",
    "totalfreq=0\n",
    "while i < 5:\n",
    "    totalfreq = totalfreq + t[i]\n",
    "    i=i+1\n",
    "print(\"Total frequency for 5 masses:\",totalfreq)"
   ]
  },
  {
   "cell_type": "code",
   "execution_count": 97,
   "id": "2c2d1a02",
   "metadata": {},
   "outputs": [
    {
     "name": "stdout",
     "output_type": "stream",
     "text": [
      "Total frequency for 20 masses: 137.5973997740633\n"
     ]
    }
   ],
   "source": [
    "t = getfreq(12,20,1)\n",
    "i=0\n",
    "totalfreq=0\n",
    "while i < 20:\n",
    "    totalfreq = totalfreq + t[i]\n",
    "    i=i+1\n",
    "print(\"Total frequency for 20 masses:\",totalfreq)"
   ]
  },
  {
   "cell_type": "markdown",
   "id": "94a08470",
   "metadata": {},
   "source": [
    "So the total system's frequency increases as the number of masses increases but just for testing purposes and to gain a further understanding of the individual masses lets only look at the first 3 frequencies as the masses increase."
   ]
  },
  {
   "cell_type": "code",
   "execution_count": 98,
   "id": "df6f216a",
   "metadata": {},
   "outputs": [
    {
     "name": "stdout",
     "output_type": "stream",
     "text": [
      "Total frequency of first 3 masses with 20 total masses: 2.6436399304465823\n"
     ]
    }
   ],
   "source": [
    "t = getfreq(12,20,1)\n",
    "i=0\n",
    "totalfreq=0\n",
    "while i < 3:\n",
    "    totalfreq = totalfreq + t[i]\n",
    "    i=i+1\n",
    "print(\"Total frequency of first 3 masses with 20 total masses:\",totalfreq)"
   ]
  },
  {
   "cell_type": "code",
   "execution_count": 101,
   "id": "2e0f8f2b",
   "metadata": {},
   "outputs": [
    {
     "name": "stdout",
     "output_type": "stream",
     "text": [
      "Total frequency of first 3 masses with 50 total masses: 2.671304999807677\n"
     ]
    }
   ],
   "source": [
    "t = getfreq(12,30,1)\n",
    "i=0\n",
    "totalfreq=0\n",
    "while i < 3:\n",
    "    totalfreq = totalfreq + t[i]\n",
    "    i=i+1\n",
    "print(\"Total frequency of first 3 masses with 30 total masses:\",totalfreq)"
   ]
  },
  {
   "cell_type": "markdown",
   "id": "dbf15679",
   "metadata": {},
   "source": [
    "So, now we see that while the total frequency of the system increases so does partial portions of the system."
   ]
  },
  {
   "cell_type": "markdown",
   "id": "e4d4e191",
   "metadata": {},
   "source": [
    "### Conclusion\n",
    "\n",
    "In conclusion we have tested and seen that increasing the number of masses and the effective stiffness will cause the fundamental frequency to increase, while increasing the total mass of the system will cause the fundamental frequency to decrease. If we think about why the observations are important we can see some examples in real life how these frequencies affect us. In a guitar or any string instrument as one increases the tension (stiffness) of the string it vibrates faster. This is what allows for different sound to come out of every string. "
   ]
  }
 ],
 "metadata": {
  "kernelspec": {
   "display_name": "Python 3 (ipykernel)",
   "language": "python",
   "name": "python3"
  },
  "language_info": {
   "codemirror_mode": {
    "name": "ipython",
    "version": 3
   },
   "file_extension": ".py",
   "mimetype": "text/x-python",
   "name": "python",
   "nbconvert_exporter": "python",
   "pygments_lexer": "ipython3",
   "version": "3.9.7"
  }
 },
 "nbformat": 4,
 "nbformat_minor": 5
}
